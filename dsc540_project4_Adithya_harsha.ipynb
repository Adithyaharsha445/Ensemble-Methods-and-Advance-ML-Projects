{
 "cells": [
  {
   "cell_type": "markdown",
   "metadata": {},
   "source": [
    "# DSC540 Project 4"
   ]
  },
  {
   "cell_type": "markdown",
   "metadata": {},
   "source": [
    "DePaul University  \n",
    "Ilyas Ustun, PhD  \n",
    "Chicago, IL  "
   ]
  },
  {
   "cell_type": "markdown",
   "metadata": {},
   "source": [
    "## Rules\n",
    "- Write your code under the corresponding questions where you see `# Code here`. You are encouraged to use more than one cell.\n",
    "- Provide explanation in a separate Markdown formatted cell. \n",
    "- You can change the cell type by:\n",
    "    - Clicking on the outer area of the cell type you want to change,\n",
    "    - Go to the top, and select either Code or Markdown from the dropdown menu.\n",
    "- Be concise in your explanations and conclusions.\n",
    "- Write clear code and provide explanation to functions you create by using `#` comment sign.\n",
    "- For built-in function and methods you use from libraries, provide a very brief explanation of what they do.\n",
    "- Try to answer the questions by yourself. Use documentation from pandas, sklearn and similar libraries to solve the problem.\n",
    "- If you are stuck you can use different resources. Do not find an identical project and copy paste the solutions. \n",
    "- Write your name before beginning to code.\n",
    "\n",
    "\n",
    "Important:  \n",
    "- **Do NOT share the solutions with other people.**\n",
    "- **Do NOT share the solutions on the internet including but not limited to Github and other platforms.**\n",
    "- Sign the Honor Pledge below indicating that you have agreed to these rules listed here, and any other ethical and honor rules as required by the university.\n",
    "\n",
    "\n",
    "\n",
    "- **Deliverables:**\n",
    "    1. The Python Jupyter notebook file named properly with your name. Example: dsc540_project1_john_doe.ipynb\n",
    "    2. The HTML output of this code notebook names the same way. Example: dsc540_project1_john_doe.html\n",
    "        - File -> Download as -> HTML   \n",
    "\n",
    "Good Luck!"
   ]
  },
  {
   "cell_type": "markdown",
   "metadata": {},
   "source": [
    "ADITHYA HARSHA\n"
   ]
  },
  {
   "cell_type": "markdown",
   "metadata": {},
   "source": [
    "**Honor Pledge:**  \n",
    "I pledge on my honor that I, **Student Name**, have followed the rules listed above, that I have not given or received any unauthorized assistance on this assignment. \n"
   ]
  },
  {
   "cell_type": "markdown",
   "metadata": {},
   "source": [
    "## Q1 [10]"
   ]
  },
  {
   "cell_type": "markdown",
   "metadata": {},
   "source": [
    "A drug company would like to introduce a drug to help patients with Alzheimer's. It is desirable to estimate $θ$, the proportion of the market share that this drug will capture. \n",
    "- The company interviews 100 people and 15 of them say that they will buy the drug. (This the observed data: n=100, observed=15) $->$ likelihood\n",
    "- If in the past new drugs tend to capture a proportion between say .10 and .40 of the market, and if all values in between are assumed equally likely, then $θ ∼ Unif(0.10, 0.40)$ $->$ prior"
   ]
  },
  {
   "cell_type": "markdown",
   "metadata": {},
   "source": [
    "### What is the traceplot of $\\theta$ using Bayesian analysis to estimate the market share for the new drug?\n",
    "- Sample 10000 draws\n",
    "- Plot the traceplot"
   ]
  },
  {
   "cell_type": "code",
   "execution_count": 10,
   "metadata": {},
   "outputs": [
    {
     "name": "stdout",
     "output_type": "stream",
     "text": [
      "Requirement already satisfied: pymc3 in c:\\users\\dell\\anaconda3\\lib\\site-packages (3.11.5)\n",
      "Requirement already satisfied: patsy>=0.5.1 in c:\\users\\dell\\anaconda3\\lib\\site-packages (from pymc3) (0.5.2)\n",
      "Requirement already satisfied: theano-pymc==1.1.2 in c:\\users\\dell\\anaconda3\\lib\\site-packages (from pymc3) (1.1.2)\n",
      "Requirement already satisfied: pandas>=0.24.0 in c:\\users\\dell\\anaconda3\\lib\\site-packages (from pymc3) (1.4.2)\n",
      "Requirement already satisfied: fastprogress>=0.2.0 in c:\\users\\dell\\anaconda3\\lib\\site-packages (from pymc3) (1.0.3)\n",
      "Requirement already satisfied: arviz>=0.11.0 in c:\\users\\dell\\anaconda3\\lib\\site-packages (from pymc3) (0.12.1)\n",
      "Requirement already satisfied: typing-extensions>=3.7.4 in c:\\users\\dell\\anaconda3\\lib\\site-packages (from pymc3) (4.1.1)\n",
      "Collecting numpy<1.22.2,>=1.15.0\n",
      "  Using cached numpy-1.22.1-cp39-cp39-win_amd64.whl (14.7 MB)\n",
      "Requirement already satisfied: semver>=2.13.0 in c:\\users\\dell\\anaconda3\\lib\\site-packages (from pymc3) (3.0.2)\n",
      "Requirement already satisfied: dill in c:\\users\\dell\\anaconda3\\lib\\site-packages (from pymc3) (0.3.7)\n",
      "Requirement already satisfied: cachetools>=4.2.1 in c:\\users\\dell\\anaconda3\\lib\\site-packages (from pymc3) (4.2.2)\n",
      "Requirement already satisfied: deprecat in c:\\users\\dell\\anaconda3\\lib\\site-packages (from pymc3) (2.1.1)\n",
      "Requirement already satisfied: scipy<1.8.0,>=1.7.3 in c:\\users\\dell\\anaconda3\\lib\\site-packages (from pymc3) (1.7.3)\n",
      "Requirement already satisfied: filelock in c:\\users\\dell\\anaconda3\\lib\\site-packages (from theano-pymc==1.1.2->pymc3) (3.6.0)\n",
      "Requirement already satisfied: xarray>=0.16.1 in c:\\users\\dell\\anaconda3\\lib\\site-packages (from arviz>=0.11.0->pymc3) (2023.10.1)\n",
      "Requirement already satisfied: xarray-einstats>=0.2 in c:\\users\\dell\\anaconda3\\lib\\site-packages (from arviz>=0.11.0->pymc3) (0.6.0)\n",
      "Requirement already satisfied: packaging in c:\\users\\dell\\anaconda3\\lib\\site-packages (from arviz>=0.11.0->pymc3) (21.3)\n",
      "Requirement already satisfied: netcdf4 in c:\\users\\dell\\anaconda3\\lib\\site-packages (from arviz>=0.11.0->pymc3) (1.6.5)\n",
      "Requirement already satisfied: setuptools>=38.4 in c:\\users\\dell\\anaconda3\\lib\\site-packages (from arviz>=0.11.0->pymc3) (61.2.0)\n",
      "Requirement already satisfied: matplotlib>=3.0 in c:\\users\\dell\\anaconda3\\lib\\site-packages (from arviz>=0.11.0->pymc3) (3.5.1)\n",
      "Note: you may need to restart the kernel to use updated packages.Requirement already satisfied: pyparsing>=2.2.1 in c:\\users\\dell\\anaconda3\\lib\\site-packages (from matplotlib>=3.0->arviz>=0.11.0->pymc3) (3.0.4)\n"
     ]
    },
    {
     "name": "stderr",
     "output_type": "stream",
     "text": [
      "ERROR: pip's dependency resolver does not currently take into account all the packages that are installed. This behaviour is the source of the following dependency conflicts.\n",
      "daal4py 2021.5.0 requires daal==2021.4.0, which is not installed.\n",
      "numba 0.55.1 requires numpy<1.22,>=1.18, but you have numpy 1.22.1 which is incompatible.\n"
     ]
    },
    {
     "name": "stdout",
     "output_type": "stream",
     "text": [
      "\n",
      "Requirement already satisfied: fonttools>=4.22.0 in c:\\users\\dell\\anaconda3\\lib\\site-packages (from matplotlib>=3.0->arviz>=0.11.0->pymc3) (4.25.0)\n",
      "Requirement already satisfied: python-dateutil>=2.7 in c:\\users\\dell\\anaconda3\\lib\\site-packages (from matplotlib>=3.0->arviz>=0.11.0->pymc3) (2.8.2)\n",
      "Requirement already satisfied: cycler>=0.10 in c:\\users\\dell\\anaconda3\\lib\\site-packages (from matplotlib>=3.0->arviz>=0.11.0->pymc3) (0.11.0)\n",
      "Requirement already satisfied: kiwisolver>=1.0.1 in c:\\users\\dell\\anaconda3\\lib\\site-packages (from matplotlib>=3.0->arviz>=0.11.0->pymc3) (1.3.2)\n",
      "Requirement already satisfied: pillow>=6.2.0 in c:\\users\\dell\\anaconda3\\lib\\site-packages (from matplotlib>=3.0->arviz>=0.11.0->pymc3) (9.0.1)\n",
      "Requirement already satisfied: pytz>=2020.1 in c:\\users\\dell\\anaconda3\\lib\\site-packages (from pandas>=0.24.0->pymc3) (2021.3)\n",
      "Requirement already satisfied: six in c:\\users\\dell\\anaconda3\\lib\\site-packages (from patsy>=0.5.1->pymc3) (1.16.0)\n",
      "Requirement already satisfied: wrapt<2,>=1.10 in c:\\users\\dell\\anaconda3\\lib\\site-packages (from deprecat->pymc3) (1.12.1)\n",
      "Requirement already satisfied: certifi in c:\\users\\dell\\anaconda3\\lib\\site-packages (from netcdf4->arviz>=0.11.0->pymc3) (2021.10.8)\n",
      "Requirement already satisfied: cftime in c:\\users\\dell\\anaconda3\\lib\\site-packages (from netcdf4->arviz>=0.11.0->pymc3) (1.6.3)\n",
      "Installing collected packages: numpy\n",
      "  Attempting uninstall: numpy\n",
      "    Found existing installation: numpy 1.26.1\n",
      "    Uninstalling numpy-1.26.1:\n",
      "      Successfully uninstalled numpy-1.26.1\n",
      "Successfully installed numpy-1.22.1\n"
     ]
    }
   ],
   "source": [
    "pip install pymc3\n"
   ]
  },
  {
   "cell_type": "code",
   "execution_count": 7,
   "metadata": {
    "scrolled": true
   },
   "outputs": [
    {
     "name": "stdout",
     "output_type": "stream",
     "text": [
      "Requirement already satisfied: numpy in c:\\users\\dell\\anaconda3\\lib\\site-packages (1.22.1)\n",
      "Collecting numpy\n",
      "  Downloading numpy-1.26.1-cp39-cp39-win_amd64.whl (15.8 MB)\n",
      "Installing collected packages: numpy\n",
      "  Attempting uninstall: numpy\n",
      "    Found existing installation: numpy 1.22.1\n",
      "    Uninstalling numpy-1.22.1:\n",
      "      Successfully uninstalled numpy-1.22.1\n",
      "Note: you may need to restart the kernel to use updated packages.\n"
     ]
    },
    {
     "name": "stderr",
     "output_type": "stream",
     "text": [
      "ERROR: Could not install packages due to an OSError: [WinError 5] Access is denied: 'C:\\\\Users\\\\dell\\\\anaconda3\\\\Lib\\\\site-packages\\\\~umpy\\\\.libs\\\\libopenblas.EL2C6PLE4ZYW3ECEVIV3OXXGRN2NRFM2.gfortran-win_amd64.dll'\n",
      "Consider using the `--user` option or check the permissions.\n",
      "\n"
     ]
    }
   ],
   "source": [
    "pip install --upgrade numpy\n"
   ]
  },
  {
   "cell_type": "code",
   "execution_count": 14,
   "metadata": {},
   "outputs": [
    {
     "name": "stdout",
     "output_type": "stream",
     "text": [
      "Requirement already satisfied: pymc3 in c:\\users\\dell\\anaconda3\\lib\\site-packages (3.11.5)\n",
      "Requirement already satisfied: arviz in c:\\users\\dell\\anaconda3\\lib\\site-packages (0.12.1)\n",
      "Collecting arviz\n",
      "  Using cached arviz-0.16.1-py3-none-any.whl (1.7 MB)\n",
      "Requirement already satisfied: semver>=2.13.0 in c:\\users\\dell\\anaconda3\\lib\\site-packages (from pymc3) (3.0.2)\n",
      "Requirement already satisfied: deprecat in c:\\users\\dell\\anaconda3\\lib\\site-packages (from pymc3) (2.1.1)\n",
      "Requirement already satisfied: dill in c:\\users\\dell\\anaconda3\\lib\\site-packages (from pymc3) (0.3.7)\n",
      "Requirement already satisfied: patsy>=0.5.1 in c:\\users\\dell\\anaconda3\\lib\\site-packages (from pymc3) (0.5.2)\n",
      "Requirement already satisfied: scipy<1.8.0,>=1.7.3 in c:\\users\\dell\\anaconda3\\lib\\site-packages (from pymc3) (1.7.3)\n",
      "Requirement already satisfied: numpy<1.22.2,>=1.15.0 in c:\\users\\dell\\anaconda3\\lib\\site-packages (from pymc3) (1.22.1)\n",
      "Requirement already satisfied: theano-pymc==1.1.2 in c:\\users\\dell\\anaconda3\\lib\\site-packages (from pymc3) (1.1.2)\n",
      "Requirement already satisfied: typing-extensions>=3.7.4 in c:\\users\\dell\\anaconda3\\lib\\site-packages (from pymc3) (4.1.1)\n",
      "Requirement already satisfied: pandas>=0.24.0 in c:\\users\\dell\\anaconda3\\lib\\site-packages (from pymc3) (1.4.2)\n",
      "Requirement already satisfied: cachetools>=4.2.1 in c:\\users\\dell\\anaconda3\\lib\\site-packages (from pymc3) (4.2.2)Note: you may need to restart the kernel to use updated packages.\n",
      "\n",
      "Requirement already satisfied: fastprogress>=0.2.0 in c:\\users\\dell\\anaconda3\\lib\\site-packages (from pymc3) (1.0.3)\n",
      "Requirement already satisfied: filelock in c:\\users\\dell\\anaconda3\\lib\\site-packages (from theano-pymc==1.1.2->pymc3) (3.6.0)\n",
      "  Using cached arviz-0.16.0-py3-none-any.whl (1.7 MB)\n",
      "  Using cached arviz-0.15.1-py3-none-any.whl (1.6 MB)\n",
      "  Using cached arviz-0.15.0-py3-none-any.whl (1.6 MB)\n",
      "  Using cached arviz-0.14.0-py3-none-any.whl (1.7 MB)\n",
      "  Using cached arviz-0.13.0-py3-none-any.whl (1.7 MB)\n",
      "Requirement already satisfied: setuptools>=38.4 in c:\\users\\dell\\anaconda3\\lib\\site-packages (from arviz) (61.2.0)\n",
      "Requirement already satisfied: matplotlib>=3.0 in c:\\users\\dell\\anaconda3\\lib\\site-packages (from arviz) (3.5.1)\n",
      "Requirement already satisfied: xarray-einstats>=0.2 in c:\\users\\dell\\anaconda3\\lib\\site-packages (from arviz) (0.6.0)\n",
      "Requirement already satisfied: netcdf4 in c:\\users\\dell\\anaconda3\\lib\\site-packages (from arviz) (1.6.5)\n",
      "Requirement already satisfied: xarray>=0.16.1 in c:\\users\\dell\\anaconda3\\lib\\site-packages (from arviz) (2023.10.1)\n",
      "Requirement already satisfied: packaging in c:\\users\\dell\\anaconda3\\lib\\site-packages (from arviz) (21.3)\n",
      "Requirement already satisfied: pyparsing>=2.2.1 in c:\\users\\dell\\anaconda3\\lib\\site-packages (from matplotlib>=3.0->arviz) (3.0.4)\n",
      "Requirement already satisfied: fonttools>=4.22.0 in c:\\users\\dell\\anaconda3\\lib\\site-packages (from matplotlib>=3.0->arviz) (4.25.0)\n",
      "Requirement already satisfied: kiwisolver>=1.0.1 in c:\\users\\dell\\anaconda3\\lib\\site-packages (from matplotlib>=3.0->arviz) (1.3.2)\n",
      "Requirement already satisfied: pillow>=6.2.0 in c:\\users\\dell\\anaconda3\\lib\\site-packages (from matplotlib>=3.0->arviz) (9.0.1)\n",
      "Requirement already satisfied: cycler>=0.10 in c:\\users\\dell\\anaconda3\\lib\\site-packages (from matplotlib>=3.0->arviz) (0.11.0)\n",
      "Requirement already satisfied: python-dateutil>=2.7 in c:\\users\\dell\\anaconda3\\lib\\site-packages (from matplotlib>=3.0->arviz) (2.8.2)\n",
      "Requirement already satisfied: pytz>=2020.1 in c:\\users\\dell\\anaconda3\\lib\\site-packages (from pandas>=0.24.0->pymc3) (2021.3)\n",
      "Requirement already satisfied: six in c:\\users\\dell\\anaconda3\\lib\\site-packages (from patsy>=0.5.1->pymc3) (1.16.0)\n",
      "Requirement already satisfied: wrapt<2,>=1.10 in c:\\users\\dell\\anaconda3\\lib\\site-packages (from deprecat->pymc3) (1.12.1)\n",
      "Requirement already satisfied: cftime in c:\\users\\dell\\anaconda3\\lib\\site-packages (from netcdf4->arviz) (1.6.3)\n",
      "Requirement already satisfied: certifi in c:\\users\\dell\\anaconda3\\lib\\site-packages (from netcdf4->arviz) (2021.10.8)\n"
     ]
    }
   ],
   "source": [
    "pip install --upgrade pymc3 arviz\n"
   ]
  },
  {
   "cell_type": "code",
   "execution_count": 1,
   "metadata": {},
   "outputs": [
    {
     "name": "stdout",
     "output_type": "stream",
     "text": [
      "Note: you may need to restart the kernel to use updated packages.\n"
     ]
    }
   ],
   "source": [
    "pip install --upgrade xarray>=2022.09.0\n"
   ]
  },
  {
   "cell_type": "code",
   "execution_count": 2,
   "metadata": {},
   "outputs": [
    {
     "name": "stdout",
     "output_type": "stream",
     "text": [
      "Requirement already satisfied: pgmpy in c:\\users\\dell\\anaconda3\\lib\\site-packages (0.1.24)\n",
      "Requirement already satisfied: scikit-learn in c:\\users\\dell\\anaconda3\\lib\\site-packages (from pgmpy) (1.0.2)\n",
      "Requirement already satisfied: statsmodels in c:\\users\\dell\\anaconda3\\lib\\site-packages (from pgmpy) (0.13.2)\n",
      "Requirement already satisfied: pyparsing in c:\\users\\dell\\anaconda3\\lib\\site-packages (from pgmpy) (3.0.4)\n",
      "Requirement already satisfied: opt-einsum in c:\\users\\dell\\anaconda3\\lib\\site-packages (from pgmpy) (3.3.0)\n",
      "Requirement already satisfied: joblib in c:\\users\\dell\\anaconda3\\lib\\site-packages (from pgmpy) (1.1.0)\n",
      "Requirement already satisfied: tqdm in c:\\users\\dell\\anaconda3\\lib\\site-packages (from pgmpy) (4.64.0)\n",
      "Requirement already satisfied: pandas in c:\\users\\dell\\anaconda3\\lib\\site-packages (from pgmpy) (1.4.2)\n",
      "Requirement already satisfied: networkx in c:\\users\\dell\\anaconda3\\lib\\site-packages (from pgmpy) (2.7.1)\n",
      "Note: you may need to restart the kernel to use updated packages.\n",
      "Requirement already satisfied: scipy in c:\\users\\dell\\anaconda3\\lib\\site-packages (from pgmpy) (1.7.3)\n",
      "Requirement already satisfied: torch in c:\\users\\dell\\anaconda3\\lib\\site-packages (from pgmpy) (2.0.1)\n",
      "Requirement already satisfied: numpy in c:\\users\\dell\\anaconda3\\lib\\site-packages (from pgmpy) (1.22.1)\n",
      "Requirement already satisfied: python-dateutil>=2.8.1 in c:\\users\\dell\\anaconda3\\lib\\site-packages (from pandas->pgmpy) (2.8.2)\n",
      "Requirement already satisfied: pytz>=2020.1 in c:\\users\\dell\\anaconda3\\lib\\site-packages (from pandas->pgmpy) (2021.3)\n",
      "Requirement already satisfied: six>=1.5 in c:\\users\\dell\\anaconda3\\lib\\site-packages (from python-dateutil>=2.8.1->pandas->pgmpy) (1.16.0)\n",
      "Requirement already satisfied: threadpoolctl>=2.0.0 in c:\\users\\dell\\anaconda3\\lib\\site-packages (from scikit-learn->pgmpy) (2.2.0)\n",
      "Requirement already satisfied: patsy>=0.5.2 in c:\\users\\dell\\anaconda3\\lib\\site-packages (from statsmodels->pgmpy) (0.5.2)\n",
      "Requirement already satisfied: packaging>=21.3 in c:\\users\\dell\\anaconda3\\lib\\site-packages (from statsmodels->pgmpy) (21.3)\n",
      "Requirement already satisfied: sympy in c:\\users\\dell\\anaconda3\\lib\\site-packages (from torch->pgmpy) (1.10.1)\n",
      "Requirement already satisfied: typing-extensions in c:\\users\\dell\\anaconda3\\lib\\site-packages (from torch->pgmpy) (4.1.1)\n",
      "Requirement already satisfied: jinja2 in c:\\users\\dell\\anaconda3\\lib\\site-packages (from torch->pgmpy) (2.11.3)\n",
      "Requirement already satisfied: filelock in c:\\users\\dell\\anaconda3\\lib\\site-packages (from torch->pgmpy) (3.6.0)\n",
      "Requirement already satisfied: MarkupSafe>=0.23 in c:\\users\\dell\\anaconda3\\lib\\site-packages (from jinja2->torch->pgmpy) (2.0.1)\n",
      "Requirement already satisfied: mpmath>=0.19 in c:\\users\\dell\\anaconda3\\lib\\site-packages (from sympy->torch->pgmpy) (1.2.1)\n",
      "Requirement already satisfied: colorama in c:\\users\\dell\\anaconda3\\lib\\site-packages (from tqdm->pgmpy) (0.4.4)\n"
     ]
    }
   ],
   "source": [
    "pip install pgmpy\n"
   ]
  },
  {
   "cell_type": "code",
   "execution_count": 1,
   "metadata": {},
   "outputs": [
    {
     "name": "stdout",
     "output_type": "stream",
     "text": [
      "WARN: Could not locate executable g77\n",
      "WARN: Could not locate executable f77\n",
      "WARN: Could not locate executable ifort\n",
      "WARN: Could not locate executable ifl\n",
      "WARN: Could not locate executable f90\n",
      "WARN: Could not locate executable DF\n",
      "WARN: Could not locate executable efl\n",
      "WARN: Could not locate executable gfortran\n",
      "WARN: Could not locate executable f95\n",
      "WARN: Could not locate executable g95\n",
      "WARN: Could not locate executable efort\n",
      "WARN: Could not locate executable efc\n",
      "WARN: Could not locate executable flang\n",
      "WARN: don't know how to compile Fortran code on platform 'nt'\n"
     ]
    },
    {
     "name": "stderr",
     "output_type": "stream",
     "text": [
      "WARNING (theano.configdefaults): g++ not available, if using conda: `conda install m2w64-toolchain`\n",
      "WARNING (theano.configdefaults): g++ not detected ! Theano will be unable to execute optimized C-implementations (for both CPU and GPU) and will default to Python implementations. Performance will be severely degraded. To remove this warning, set Theano flags cxx to an empty string.\n",
      "WARNING (theano.tensor.blas): Using NumPy C-API based implementation for BLAS functions.\n"
     ]
    }
   ],
   "source": [
    "import pymc3 as pm\n",
    "import arviz as az"
   ]
  },
  {
   "cell_type": "code",
   "execution_count": 12,
   "metadata": {},
   "outputs": [
    {
     "name": "stdout",
     "output_type": "stream",
     "text": [
      "Requirement already satisfied: pgmpy in c:\\users\\dell\\anaconda3\\lib\\site-packages (0.1.24)\n",
      "Requirement already satisfied: numpy in c:\\users\\dell\\anaconda3\\lib\\site-packages (from pgmpy) (1.22.1)\n",
      "Requirement already satisfied: tqdm in c:\\users\\dell\\anaconda3\\lib\\site-packages (from pgmpy) (4.64.0)\n",
      "Requirement already satisfied: scikit-learn in c:\\users\\dell\\anaconda3\\lib\\site-packages (from pgmpy) (1.0.2)\n",
      "Requirement already satisfied: networkx in c:\\users\\dell\\anaconda3\\lib\\site-packages (from pgmpy) (2.7.1)\n",
      "Requirement already satisfied: pandas in c:\\users\\dell\\anaconda3\\lib\\site-packages (from pgmpy) (1.4.2)\n",
      "Requirement already satisfied: statsmodels in c:\\users\\dell\\anaconda3\\lib\\site-packages (from pgmpy) (0.13.2)\n",
      "Requirement already satisfied: pyparsing in c:\\users\\dell\\anaconda3\\lib\\site-packages (from pgmpy) (3.0.4)\n",
      "Requirement already satisfied: opt-einsum in c:\\users\\dell\\anaconda3\\lib\\site-packages (from pgmpy) (3.3.0)\n",
      "Requirement already satisfied: scipy in c:\\users\\dell\\anaconda3\\lib\\site-packages (from pgmpy) (1.7.3)\n",
      "Requirement already satisfied: torch in c:\\users\\dell\\anaconda3\\lib\\site-packages (from pgmpy) (2.0.1)\n",
      "Requirement already satisfied: joblib in c:\\users\\dell\\anaconda3\\lib\\site-packages (from pgmpy) (1.1.0)\n",
      "Requirement already satisfied: python-dateutil>=2.8.1 in c:\\users\\dell\\anaconda3\\lib\\site-packages (from pandas->pgmpy) (2.8.2)\n",
      "Requirement already satisfied: pytz>=2020.1 in c:\\users\\dell\\anaconda3\\lib\\site-packages (from pandas->pgmpy) (2021.3)\n",
      "Requirement already satisfied: six>=1.5 in c:\\users\\dell\\anaconda3\\lib\\site-packages (from python-dateutil>=2.8.1->pandas->pgmpy) (1.16.0)\n",
      "Requirement already satisfied: threadpoolctl>=2.0.0 in c:\\users\\dell\\anaconda3\\lib\\site-packages (from scikit-learn->pgmpy) (2.2.0)\n",
      "Requirement already satisfied: patsy>=0.5.2 in c:\\users\\dell\\anaconda3\\lib\\site-packages (from statsmodels->pgmpy) (0.5.2)\n",
      "Requirement already satisfied: packaging>=21.3 in c:\\users\\dell\\anaconda3\\lib\\site-packages (from statsmodels->pgmpy) (21.3)\n",
      "Requirement already satisfied: filelock in c:\\users\\dell\\anaconda3\\lib\\site-packages (from torch->pgmpy) (3.6.0)\n",
      "Requirement already satisfied: typing-extensions in c:\\users\\dell\\anaconda3\\lib\\site-packages (from torch->pgmpy) (4.1.1)\n",
      "Requirement already satisfied: jinja2 in c:\\users\\dell\\anaconda3\\lib\\site-packages (from torch->pgmpy) (2.11.3)\n",
      "Requirement already satisfied: sympy in c:\\users\\dell\\anaconda3\\lib\\site-packages (from torch->pgmpy) (1.10.1)\n",
      "Requirement already satisfied: MarkupSafe>=0.23 in c:\\users\\dell\\anaconda3\\lib\\site-packages (from jinja2->torch->pgmpy) (2.0.1)\n",
      "Requirement already satisfied: mpmath>=0.19 in c:\\users\\dell\\anaconda3\\lib\\site-packages (from sympy->torch->pgmpy) (1.2.1)\n",
      "Requirement already satisfied: colorama in c:\\users\\dell\\anaconda3\\lib\\site-packages (from tqdm->pgmpy) (0.4.4)\n"
     ]
    }
   ],
   "source": [
    "!pip install pgmpy"
   ]
  },
  {
   "cell_type": "code",
   "execution_count": 114,
   "metadata": {},
   "outputs": [
    {
     "name": "stderr",
     "output_type": "stream",
     "text": [
      "Auto-assigning NUTS sampler...\n",
      "Initializing NUTS using jitter+adapt_diag...\n",
      "Multiprocess sampling (4 chains in 4 jobs)\n",
      "NUTS: [theta]\n"
     ]
    },
    {
     "data": {
      "text/html": [
       "\n",
       "    <div>\n",
       "        <style>\n",
       "            /* Turns off some styling */\n",
       "            progress {\n",
       "                /* gets rid of default border in Firefox and Opera. */\n",
       "                border: none;\n",
       "                /* Needs to be in here for Safari polyfill so background images work as expected. */\n",
       "                background-size: auto;\n",
       "            }\n",
       "            .progress-bar-interrupted, .progress-bar-interrupted::-webkit-progress-bar {\n",
       "                background: #F44336;\n",
       "            }\n",
       "        </style>\n",
       "      <progress value='44000' class='' max='44000' style='width:300px; height:20px; vertical-align: middle;'></progress>\n",
       "      100.00% [44000/44000 00:57<00:00 Sampling 4 chains, 0 divergences]\n",
       "    </div>\n",
       "    "
      ],
      "text/plain": [
       "<IPython.core.display.HTML object>"
      ]
     },
     "metadata": {},
     "output_type": "display_data"
    },
    {
     "name": "stderr",
     "output_type": "stream",
     "text": [
      "Sampling 4 chains for 1_000 tune and 10_000 draw iterations (4_000 + 40_000 draws total) took 77 seconds.\n",
      "The acceptance probability does not match the target. It is 0.5591206347418158, but should be close to 0.8. Try to increase the number of tuning steps.\n",
      "The acceptance probability does not match the target. It is 0.8869751249580462, but should be close to 0.8. Try to increase the number of tuning steps.\n",
      "The acceptance probability does not match the target. It is 0.6365985480511342, but should be close to 0.8. Try to increase the number of tuning steps.\n"
     ]
    },
    {
     "data": {
      "image/png": "[encoded data removed]",
      "text/plain": [
       "<Figure size 864x144 with 2 Axes>"
      ]
     },
     "metadata": {
      "needs_background": "light"
     },
     "output_type": "display_data"
    }
   ],
   "source": [
    "with pm.Model() as model:\n",
    "    \n",
    "    # Priors for unknown model parameters\n",
    "    theta = pm.Uniform(........)\n",
    "    \n",
    "    # Likelihood\n",
    "    x = pm.Binomial(.........)\n",
    "\n",
    "    # Posterior\n",
    "    # draw 10000 posterior samples\n",
    "    trace = pm.sample(.........)\n",
    "    \n",
    "    # Plot the trace plot\n",
    "    az.____(____)"
   ]
  },
  {
   "cell_type": "code",
   "execution_count": null,
   "metadata": {},
   "outputs": [],
   "source": []
  },
  {
   "cell_type": "markdown",
   "metadata": {},
   "source": [
    "### Plot the posterior distribution plot of $ \\theta $\n",
    "- What is the mean posterior value?"
   ]
  },
  {
   "cell_type": "code",
   "execution_count": 115,
   "metadata": {
    "scrolled": true
   },
   "outputs": [
    {
     "name": "stderr",
     "output_type": "stream",
     "text": [
      "C:\\Users\\ilyas\\Anaconda3\\envs\\data_science\\lib\\site-packages\\arviz\\data\\io_pymc3.py:91: FutureWarning: Using `from_pymc3` without the model will be deprecated in a future release. Not using the model will return less accurate and less useful results. Make sure you use the model argument or call from_pymc3 within a model context.\n",
      "  FutureWarning,\n"
     ]
    },
    {
     "data": {
      "text/plain": [
       "<AxesSubplot:title={'center':'theta'}>"
      ]
     },
     "execution_count": 115,
     "metadata": {},
     "output_type": "execute_result"
    },
    {
     "data": {
      "image/png": "[encoded data removed]",
      "text/plain": [
       "<Figure size 432x288 with 1 Axes>"
      ]
     },
     "metadata": {
      "needs_background": "light"
     },
     "output_type": "display_data"
    }
   ],
   "source": [
    "# Plot the posterior of trace\n",
    "az.____(____);"
   ]
  },
  {
   "cell_type": "code",
   "execution_count": 4,
   "metadata": {},
   "outputs": [
    {
     "name": "stderr",
     "output_type": "stream",
     "text": [
      "C:\\Users\\dell\\anaconda3\\lib\\site-packages\\deprecat\\classic.py:215: FutureWarning: In v4.0, pm.sample will return an `arviz.InferenceData` object instead of a `MultiTrace` by default. You can pass return_inferencedata=True or return_inferencedata=False to be safe and silence this warning.\n",
      "  return wrapped_(*args_, **kwargs_)\n",
      "Auto-assigning NUTS sampler...\n",
      "Initializing NUTS using jitter+adapt_diag...\n",
      "Multiprocess sampling (4 chains in 4 jobs)\n",
      "NUTS: [theta]\n"
     ]
    },
    {
     "data": {
      "text/html": [
       "\n",
       "<style>\n",
       "    /* Turns off some styling */\n",
       "    progress {\n",
       "        /* gets rid of default border in Firefox and Opera. */\n",
       "        border: none;\n",
       "        /* Needs to be in here for Safari polyfill so background images work as expected. */\n",
       "        background-size: auto;\n",
       "    }\n",
       "    progress:not([value]), progress:not([value])::-webkit-progress-bar {\n",
       "        background: repeating-linear-gradient(45deg, #7e7e7e, #7e7e7e 10px, #5c5c5c 10px, #5c5c5c 20px);\n",
       "    }\n",
       "    .progress-bar-interrupted, .progress-bar-interrupted::-webkit-progress-bar {\n",
       "        background: #F44336;\n",
       "    }\n",
       "</style>\n"
      ],
      "text/plain": [
       "<IPython.core.display.HTML object>"
      ]
     },
     "metadata": {},
     "output_type": "display_data"
    },
    {
     "data": {
      "text/html": [
       "\n",
       "    <div>\n",
       "      <progress value='44000' class='' max='44000' style='width:300px; height:20px; vertical-align: middle;'></progress>\n",
       "      100.00% [44000/44000 01:25&lt;00:00 Sampling 4 chains, 0 divergences]\n",
       "    </div>\n",
       "    "
      ],
      "text/plain": [
       "<IPython.core.display.HTML object>"
      ]
     },
     "metadata": {},
     "output_type": "display_data"
    },
    {
     "name": "stderr",
     "output_type": "stream",
     "text": [
      "Sampling 4 chains for 1_000 tune and 10_000 draw iterations (4_000 + 40_000 draws total) took 113 seconds.\n",
      "The acceptance probability does not match the target. It is 0.9157910578448762, but should be close to 0.8. Try to increase the number of tuning steps.\n"
     ]
    },
    {
     "data": {
      "image/png": "[encoded data removed]",
      "text/plain": [
       "<Figure size 864x144 with 2 Axes>"
      ]
     },
     "metadata": {
      "needs_background": "light"
     },
     "output_type": "display_data"
    }
   ],
   "source": [
    "import pymc3 as pm\n",
    "import arviz as az\n",
    "\n",
    "# Define the observed data\n",
    "n_observed = 15\n",
    "n_total = 100\n",
    "\n",
    "with pm.Model() as model:\n",
    "    # Priors for unknown model parameters\n",
    "    theta = pm.Uniform(\"theta\", 0.10, 0.40)  # Prior distribution based on the given information\n",
    "    \n",
    "    # Likelihood\n",
    "    x = pm.Binomial(\"x\", n=n_total, p=theta, observed=n_observed)\n",
    "    \n",
    "    # Posterior\n",
    "    # draw 10000 posterior samples\n",
    "    trace = pm.sample(10000, tune=1000, chains=4)\n",
    "    \n",
    "    # Plot the trace plot\n",
    "    az.plot_trace(trace)\n"
   ]
  },
  {
   "cell_type": "code",
   "execution_count": 5,
   "metadata": {},
   "outputs": [
    {
     "name": "stderr",
     "output_type": "stream",
     "text": [
      "Got error No model on context stack. trying to find log_likelihood in translation.\n",
      "C:\\Users\\dell\\anaconda3\\lib\\site-packages\\arviz\\data\\io_pymc3_3x.py:98: FutureWarning: Using `from_pymc3` without the model will be deprecated in a future release. Not using the model will return less accurate and less useful results. Make sure you use the model argument or call from_pymc3 within a model context.\n",
      "  warnings.warn(\n"
     ]
    },
    {
     "name": "stdout",
     "output_type": "stream",
     "text": [
      "Mean posterior value: 0.16\n"
     ]
    },
    {
     "data": {
      "image/png": "[encoded data removed]",
      "text/plain": [
       "<Figure size 432x288 with 1 Axes>"
      ]
     },
     "metadata": {
      "needs_background": "light"
     },
     "output_type": "display_data"
    }
   ],
   "source": [
    "import arviz as az\n",
    "import matplotlib.pyplot as plt\n",
    "\n",
    "# Assuming you have a trace obtained from MCMC sampling stored in the 'trace' variable\n",
    "\n",
    "# Plot the posterior distribution\n",
    "az.plot_posterior(trace, var_names=['theta'])\n",
    "\n",
    "# Calculate the mean posterior value\n",
    "mean_posterior = trace['theta'].mean()\n",
    "print(f\"Mean posterior value: {mean_posterior:.2f}\")\n",
    "\n",
    "# Show the plot\n",
    "plt.show()\n"
   ]
  },
  {
   "cell_type": "markdown",
   "metadata": {},
   "source": [
    "Mean posterior value = 0.16"
   ]
  },
  {
   "cell_type": "markdown",
   "metadata": {},
   "source": [
    "\n",
    "## Bayesian Network Analysis\n",
    "\n",
    "In this part we will be analyzing medical diagnosis using Bayes Nets. The structure and the Conditional Probabability Distribution tables are shown in the figure below."
   ]
  },
  {
   "cell_type": "markdown",
   "metadata": {},
   "source": [
    "![MedicalDiagnosis](Med-diag-bnet.jpg)"
   ]
  },
  {
   "cell_type": "markdown",
   "metadata": {},
   "source": [
    "- In the first few questions you will build the Bayes Net, set up the Conditional Probability Distribution tables, and associate the CPDs to the network.   \n",
    "- These steps are extremely important and crucial. Make sure you do the set up correctly, as everything else depends on that.   "
   ]
  },
  {
   "cell_type": "markdown",
   "metadata": {},
   "source": [
    "## Import Libraries\n",
    "\n",
    "**Import the usual libraries for pandas and plotting, and sklearn.**"
   ]
  },
  {
   "cell_type": "code",
   "execution_count": 2,
   "metadata": {},
   "outputs": [],
   "source": [
    "import pandas as pd\n",
    "import numpy as np\n",
    "import matplotlib.pyplot as plt\n",
    "import seaborn as sns\n",
    "\n",
    "from sklearn import metrics"
   ]
  },
  {
   "cell_type": "code",
   "execution_count": 3,
   "metadata": {},
   "outputs": [],
   "source": [
    "# import pgmpy\n",
    "from pgmpy.models import BayesianModel\n",
    "from pgmpy.factors.discrete import TabularCPD"
   ]
  },
  {
   "cell_type": "code",
   "execution_count": 4,
   "metadata": {},
   "outputs": [
    {
     "data": {
      "text/plain": [
       "'1.0.2'"
      ]
     },
     "execution_count": 4,
     "metadata": {},
     "output_type": "execute_result"
    }
   ],
   "source": [
    "import sklearn\n",
    "sklearn.__version__"
   ]
  },
  {
   "cell_type": "markdown",
   "metadata": {},
   "source": [
    "### These are the packages I used"
   ]
  },
  {
   "cell_type": "code",
   "execution_count": 4,
   "metadata": {},
   "outputs": [],
   "source": [
    "# Your package imports here"
   ]
  },
  {
   "cell_type": "markdown",
   "metadata": {},
   "source": [
    "## Q2 [10]\n",
    "\n",
    "**Define the model structure.** \n",
    "\n",
    "You need to define the network by passing a list of edges. "
   ]
  },
  {
   "cell_type": "code",
   "execution_count": 5,
   "metadata": {},
   "outputs": [
    {
     "name": "stderr",
     "output_type": "stream",
     "text": [
      "WARNING:pgmpy:BayesianModel has been renamed to BayesianNetwork. Please use BayesianNetwork class, BayesianModel will be removed in future.\n"
     ]
    }
   ],
   "source": [
    "model = BayesianModel([('Smokes', 'LungDisease'), ('LungDisease', 'ShortnessBreath'), ('LungDisease', 'ChestPain'), ('LungDisease', 'Cough'), ('Cold', 'Cough'), ('Cold', 'Fever')])"
   ]
  },
  {
   "cell_type": "code",
   "execution_count": 6,
   "metadata": {},
   "outputs": [
    {
     "name": "stderr",
     "output_type": "stream",
     "text": [
      "WARNING:pgmpy:BayesianModel has been renamed to BayesianNetwork. Please use BayesianNetwork class, BayesianModel will be removed in future.\n"
     ]
    }
   ],
   "source": [
    "from pgmpy.models import BayesianModel\n",
    "\n",
    "# Define the model structure\n",
    "model = BayesianModel([\n",
    "    ('Smokes', 'LungDisease'),\n",
    "    ('LungDisease', 'ShortnessBreath'),\n",
    "    ('LungDisease', 'ChestPain'),\n",
    "    ('LungDisease', 'Cough'),\n",
    "    ('Cold', 'Cough'),\n",
    "    ('Cold', 'Fever')\n",
    "])\n"
   ]
  },
  {
   "cell_type": "code",
   "execution_count": 7,
   "metadata": {},
   "outputs": [
    {
     "data": {
      "text/plain": [
       "<pgmpy.models.BayesianModel.BayesianModel at 0x2f028124250>"
      ]
     },
     "execution_count": 7,
     "metadata": {},
     "output_type": "execute_result"
    }
   ],
   "source": [
    "# Your code\n",
    "model \n"
   ]
  },
  {
   "cell_type": "markdown",
   "metadata": {},
   "source": [
    "## Q3 [15] \n",
    "\n",
    "**Define individual CPDs**\n",
    "- Define the CPDs using the state names of the variables. "
   ]
  },
  {
   "cell_type": "code",
   "execution_count": 8,
   "metadata": {
    "scrolled": true
   },
   "outputs": [
    {
     "name": "stdout",
     "output_type": "stream",
     "text": [
      "+-----------+-----+\n",
      "| Smokes(T) | 0.2 |\n",
      "+-----------+-----+\n",
      "| Smokes(F) | 0.8 |\n",
      "+-----------+-----+\n",
      "+----------------+-----------+-----------+\n",
      "| Smokes         | Smokes(T) | Smokes(F) |\n",
      "+----------------+-----------+-----------+\n",
      "| LungDisease(T) | 0.1009    | 0.001     |\n",
      "+----------------+-----------+-----------+\n",
      "| LungDisease(F) | 0.8991    | 0.999     |\n",
      "+----------------+-----------+-----------+\n"
     ]
    }
   ],
   "source": [
    "cpd_Smokes = TabularCPD(variable='Smokes', variable_card=2, values=[[0.2], [0.8]], state_names={'Smokes' : ['T', 'F']})\n",
    "print(cpd_Smokes)\n",
    "\n",
    "\n",
    "cpd_LungDisease = TabularCPD(variable='LungDisease', \n",
    "                             variable_card=2, \n",
    "                             values=[[0.1009, 0.001],\n",
    "                                     [0.8991, 0.999]],\n",
    "                             evidence=['Smokes'],\n",
    "                             evidence_card=[2],\n",
    "                            state_names={'Smokes' : ['T', 'F'], 'LungDisease' : ['T', 'F']})\n",
    "print(cpd_LungDisease)\n",
    "\n"
   ]
  },
  {
   "cell_type": "code",
   "execution_count": 41,
   "metadata": {},
   "outputs": [],
   "source": [
    "# Define CPD for 'Smokes'\n",
    "cpd_Smokes = TabularCPD(\n",
    "    variable='Smokes',\n",
    "    variable_card=2,\n",
    "    values=[[0.2], [0.8]],\n",
    "    state_names={'Smokes': ['T', 'F']}\n",
    ")\n",
    "\n",
    "\n",
    "# Define CPD for 'LungDisease' given 'Smokes'\n",
    "cpd_LungDisease = TabularCPD(\n",
    "    variable='LungDisease',\n",
    "    variable_card=2,\n",
    "    values=[[0.1009, 0.001],\n",
    "            [0.8991, 0.999]],\n",
    "    evidence=['Smokes'],\n",
    "    evidence_card=[2],\n",
    "    state_names={'Smokes': ['T', 'F'], 'LungDisease': ['T', 'F']}\n",
    ")\n",
    "\n",
    "\n"
   ]
  },
  {
   "cell_type": "code",
   "execution_count": 42,
   "metadata": {},
   "outputs": [],
   "source": [
    "# Define CPD for 'ShortnessBreath' given 'LungDisease'\n",
    "cpd_ShortnessBreath = TabularCPD(\n",
    "    variable='ShortnessBreath',\n",
    "    variable_card=2,\n",
    "    values=[[0.208, 0.01],\n",
    "            [0.792, 0.99]],\n",
    "    evidence=['LungDisease'],\n",
    "    evidence_card=[2],\n",
    "    state_names={'LungDisease': ['T', 'F'], 'ShortnessBreath': ['T', 'F']}\n",
    ")\n"
   ]
  },
  {
   "cell_type": "code",
   "execution_count": 43,
   "metadata": {},
   "outputs": [],
   "source": [
    "# Define CPD for 'ChestPain' given 'LungDisease'\n",
    "cpd_ChestPain = TabularCPD(\n",
    "    variable='ChestPain',\n",
    "    variable_card=2,\n",
    "    values=[[0.2456, 0.01],\n",
    "            [0.7893, 0.99]],\n",
    "    evidence=['LungDisease'],\n",
    "    evidence_card=[2],\n",
    "    state_names={'LungDisease': ['T', 'F'], 'ChestPain': ['T', 'F']}\n",
    ")\n",
    "\n"
   ]
  },
  {
   "cell_type": "code",
   "execution_count": 44,
   "metadata": {},
   "outputs": [],
   "source": [
    "# Define CPD for 'Cold'\n",
    "cpd_Cold = TabularCPD(\n",
    "    variable='Cold',\n",
    "    variable_card=2,\n",
    "    values=[[0.02], [0.98]],\n",
    "    state_names={'Cold': ['T', 'F']}\n",
    ")\n",
    "\n"
   ]
  },
  {
   "cell_type": "code",
   "execution_count": 45,
   "metadata": {},
   "outputs": [],
   "source": [
    "cpd_Fever = TabularCPD(variable='Fever', \n",
    "                             variable_card=2, \n",
    "                             values=[[0.307, 0.01],\n",
    "                                     [0.693, 0.99]],\n",
    "                             evidence=['Cold'],\n",
    "                             evidence_card=[2],\n",
    "                            state_names={'Cold' : ['T', 'F'], 'Fever' : ['T', 'F']})"
   ]
  },
  {
   "cell_type": "code",
   "execution_count": 46,
   "metadata": {},
   "outputs": [],
   "source": [
    "# Define CPD for 'ChestPain'\n",
    "cpd_ChestPain = TabularCPD(\n",
    "    variable='ChestPain',\n",
    "    variable_card=2,\n",
    "    values=[[0.208, 0.01],\n",
    "            [0.792, 0.99]],\n",
    "    evidence=['LungDisease'],\n",
    "    evidence_card=[2],\n",
    "    state_names={'LungDisease': ['T', 'F'], 'ChestPain': ['T', 'F']}\n",
    ")\n"
   ]
  },
  {
   "cell_type": "code",
   "execution_count": 36,
   "metadata": {},
   "outputs": [],
   "source": [
    "# Define CPD for 'Cough'\n",
    "cpd_Cough = TabularCPD(\n",
    "    variable='Cough',\n",
    "    variable_card=2,\n",
    "    values=[[0.7525, 0.505, 0.505, 0.01],\n",
    "            [0.2475, 0.495, 0.495, 0.99]],\n",
    "    evidence=['LungDisease', 'Cold'],\n",
    "    evidence_card=[2, 2],\n",
    "    state_names={'LungDisease': ['T', 'F'], 'Cold': ['T', 'F'], 'Cough': ['T', 'F']}\n",
    ")\n",
    "\n"
   ]
  },
  {
   "cell_type": "markdown",
   "metadata": {},
   "source": [
    "## Q4 [5] \n",
    "- Check that each of the CPDs are correct"
   ]
  },
  {
   "cell_type": "code",
   "execution_count": 30,
   "metadata": {},
   "outputs": [
    {
     "name": "stdout",
     "output_type": "stream",
     "text": [
      "CPD for 'Smokes':\n",
      "+-----------+-----+\n",
      "| Smokes(T) | 0.2 |\n",
      "+-----------+-----+\n",
      "| Smokes(F) | 0.8 |\n",
      "+-----------+-----+\n"
     ]
    }
   ],
   "source": [
    "print(\"CPD for 'Smokes':\")\n",
    "print(cpd_Smokes)\n"
   ]
  },
  {
   "cell_type": "code",
   "execution_count": 31,
   "metadata": {},
   "outputs": [
    {
     "name": "stdout",
     "output_type": "stream",
     "text": [
      "\n",
      "CPD for 'LungDisease' given 'Smokes':\n",
      "+----------------+-----------+-----------+\n",
      "| Smokes         | Smokes(T) | Smokes(F) |\n",
      "+----------------+-----------+-----------+\n",
      "| LungDisease(T) | 0.1009    | 0.001     |\n",
      "+----------------+-----------+-----------+\n",
      "| LungDisease(F) | 0.8991    | 0.999     |\n",
      "+----------------+-----------+-----------+\n"
     ]
    }
   ],
   "source": [
    "print(\"\\nCPD for 'LungDisease' given 'Smokes':\")\n",
    "print(cpd_LungDisease)\n"
   ]
  },
  {
   "cell_type": "code",
   "execution_count": 34,
   "metadata": {},
   "outputs": [
    {
     "name": "stdout",
     "output_type": "stream",
     "text": [
      "\n",
      "CPD for 'Cold':\n",
      "+---------+------+\n",
      "| Cold(T) | 0.02 |\n",
      "+---------+------+\n",
      "| Cold(F) | 0.98 |\n",
      "+---------+------+\n"
     ]
    }
   ],
   "source": [
    "print(\"\\nCPD for 'Cold':\")\n",
    "print(cpd_Cold)"
   ]
  },
  {
   "cell_type": "code",
   "execution_count": 37,
   "metadata": {},
   "outputs": [
    {
     "name": "stdout",
     "output_type": "stream",
     "text": [
      "\n",
      "CPD for 'ChestPain':\n",
      "+--------------+----------------+----------------+\n",
      "| LungDisease  | LungDisease(T) | LungDisease(F) |\n",
      "+--------------+----------------+----------------+\n",
      "| ChestPain(T) | 0.208          | 0.01           |\n",
      "+--------------+----------------+----------------+\n",
      "| ChestPain(F) | 0.792          | 0.99           |\n",
      "+--------------+----------------+----------------+\n"
     ]
    }
   ],
   "source": [
    "print(\"\\nCPD for 'ChestPain':\")\n",
    "print(cpd_ChestPain)\n"
   ]
  },
  {
   "cell_type": "code",
   "execution_count": 38,
   "metadata": {},
   "outputs": [
    {
     "name": "stdout",
     "output_type": "stream",
     "text": [
      "\n",
      "CPD for 'ShortnessBreath' given 'LungDisease':\n",
      "+--------------------+----------------+----------------+\n",
      "| LungDisease        | LungDisease(T) | LungDisease(F) |\n",
      "+--------------------+----------------+----------------+\n",
      "| ShortnessBreath(T) | 0.208          | 0.01           |\n",
      "+--------------------+----------------+----------------+\n",
      "| ShortnessBreath(F) | 0.792          | 0.99           |\n",
      "+--------------------+----------------+----------------+\n"
     ]
    }
   ],
   "source": [
    "print(\"\\nCPD for 'ShortnessBreath' given 'LungDisease':\")\n",
    "print(cpd_ShortnessBreath)"
   ]
  },
  {
   "cell_type": "code",
   "execution_count": 35,
   "metadata": {},
   "outputs": [
    {
     "name": "stdout",
     "output_type": "stream",
     "text": [
      "+-------------+----------------+----------------+----------------+----------------+\n",
      "| LungDisease | LungDisease(T) | LungDisease(T) | LungDisease(F) | LungDisease(F) |\n",
      "+-------------+----------------+----------------+----------------+----------------+\n",
      "| Cold        | Cold(T)        | Cold(F)        | Cold(T)        | Cold(F)        |\n",
      "+-------------+----------------+----------------+----------------+----------------+\n",
      "| Cough(T)    | 0.7525         | 0.505          | 0.505          | 0.01           |\n",
      "+-------------+----------------+----------------+----------------+----------------+\n",
      "| Cough(F)    | 0.2475         | 0.495          | 0.495          | 0.99           |\n",
      "+-------------+----------------+----------------+----------------+----------------+\n"
     ]
    }
   ],
   "source": [
    "# Print CPD for 'Cough'\n",
    "print(cpd_Cough)\n"
   ]
  },
  {
   "cell_type": "markdown",
   "metadata": {},
   "source": [
    "## Q5 [5]\n",
    "- Add the defined CPDs to the model (Associate the CPDs with the network)"
   ]
  },
  {
   "cell_type": "code",
   "execution_count": 49,
   "metadata": {},
   "outputs": [
    {
     "data": {
      "text/plain": [
       "True"
      ]
     },
     "execution_count": 49,
     "metadata": {},
     "output_type": "execute_result"
    }
   ],
   "source": [
    "model.add_cpds(cpd_Smokes, cpd_LungDisease, cpd_ShortnessBreath, cpd_ChestPain, cpd_Cold, cpd_Cough, cpd_Fever)\n",
    "model.check_model()"
   ]
  },
  {
   "cell_type": "code",
   "execution_count": null,
   "metadata": {},
   "outputs": [],
   "source": []
  },
  {
   "cell_type": "code",
   "execution_count": null,
   "metadata": {},
   "outputs": [],
   "source": []
  },
  {
   "cell_type": "markdown",
   "metadata": {},
   "source": [
    "## Q6 [5]\n",
    "- The cardinality of each of the nodes is 2 - True or False?"
   ]
  },
  {
   "cell_type": "code",
   "execution_count": 135,
   "metadata": {},
   "outputs": [
    {
     "data": {
      "text/plain": [
       "2"
      ]
     },
     "execution_count": 135,
     "metadata": {},
     "output_type": "execute_result"
    }
   ],
   "source": [
    "# Your code"
   ]
  },
  {
   "cell_type": "code",
   "execution_count": 52,
   "metadata": {},
   "outputs": [
    {
     "name": "stdout",
     "output_type": "stream",
     "text": [
      "False\n"
     ]
    }
   ],
   "source": [
    "# Check cardinality for each node\n",
    "cardinality_check = all(len(cpd.variables) == 1 and cpd.cardinality[0] == 2 for cpd in [cpd_Smokes, cpd_LungDisease, cpd_ShortnessBreath, cpd_ChestPain, cpd_Cold, cpd_Cough, cpd_Fever])\n",
    "\n",
    "# Print the result\n",
    "print(cardinality_check)\n"
   ]
  },
  {
   "cell_type": "markdown",
   "metadata": {},
   "source": [
    "### Q7 [10] \n",
    "**Find the probability of each event hapenning using the variable elimination method.**\n",
    "- $ P(Smokes) $\n",
    "- $ P(Cold) $\n",
    "- $ P(LungDisease) $\n",
    "- $ P(ShortnessBreath) $\n",
    "- $ P(ChestPain) $\n",
    "- $ P(Fever) $\n",
    "- $ P(Cough) $\n",
    "- $ P(LungDisease|Smokes=True) $\n",
    "- $ P(LungDisease|Cough=True) $\n",
    "- $ P(ShortnessBreath|Smokes=True) $\n",
    "- $ P(ChestPain|Fever=True) $"
   ]
  },
  {
   "cell_type": "code",
   "execution_count": 53,
   "metadata": {},
   "outputs": [],
   "source": [
    "from pgmpy.inference import VariableElimination\n",
    "infer = VariableElimination(model)"
   ]
  },
  {
   "cell_type": "code",
   "execution_count": 153,
   "metadata": {},
   "outputs": [
    {
     "name": "stderr",
     "output_type": "stream",
     "text": [
      "Finding Elimination Order: : 100%|█████████████████████████████████████████████████████| 6/6 [00:00<00:00, 3007.39it/s]\n",
      "Eliminating: Fever: 100%|███████████████████████████████████████████████████████████████| 6/6 [00:00<00:00, 859.28it/s]"
     ]
    },
    {
     "name": "stdout",
     "output_type": "stream",
     "text": [
      "+-----------+---------------+\n",
      "| Smokes    |   phi(Smokes) |\n",
      "+===========+===============+\n",
      "| Smokes(T) |        0.2000 |\n",
      "+-----------+---------------+\n",
      "| Smokes(F) |        0.8000 |\n",
      "+-----------+---------------+\n"
     ]
    },
    {
     "name": "stderr",
     "output_type": "stream",
     "text": [
      "\n"
     ]
    }
   ],
   "source": [
    "dist = infer.query(['Smokes'])\n",
    "print(dist)\n",
    "# Your code"
   ]
  },
  {
   "cell_type": "code",
   "execution_count": 56,
   "metadata": {},
   "outputs": [
    {
     "name": "stderr",
     "output_type": "stream",
     "text": [
      "WARNING:pgmpy:BayesianModel has been renamed to BayesianNetwork. Please use BayesianNetwork class, BayesianModel will be removed in future.\n",
      "WARNING:pgmpy:BayesianModel has been renamed to BayesianNetwork. Please use BayesianNetwork class, BayesianModel will be removed in future.\n"
     ]
    },
    {
     "name": "stdout",
     "output_type": "stream",
     "text": [
      "Probability of Smokes:\n",
      "+-----------+---------------+\n",
      "| Smokes    |   phi(Smokes) |\n",
      "+===========+===============+\n",
      "| Smokes(T) |        0.2000 |\n",
      "+-----------+---------------+\n",
      "| Smokes(F) |        0.8000 |\n",
      "+-----------+---------------+\n"
     ]
    }
   ],
   "source": [
    "from pgmpy.inference import VariableElimination\n",
    "\n",
    "infer = VariableElimination(model)\n",
    "\n",
    "# Probability of Smokes\n",
    "prob_Smokes = infer.query(['Smokes'])\n",
    "print(\"Probability of Smokes:\")\n",
    "print(prob_Smokes)\n",
    "\n"
   ]
  },
  {
   "cell_type": "code",
   "execution_count": 57,
   "metadata": {},
   "outputs": [
    {
     "name": "stderr",
     "output_type": "stream",
     "text": [
      "WARNING:pgmpy:BayesianModel has been renamed to BayesianNetwork. Please use BayesianNetwork class, BayesianModel will be removed in future.\n",
      "WARNING:pgmpy:BayesianModel has been renamed to BayesianNetwork. Please use BayesianNetwork class, BayesianModel will be removed in future.\n"
     ]
    },
    {
     "name": "stdout",
     "output_type": "stream",
     "text": [
      "\n",
      "Probability of Cold:\n",
      "+---------+-------------+\n",
      "| Cold    |   phi(Cold) |\n",
      "+=========+=============+\n",
      "| Cold(T) |      0.0200 |\n",
      "+---------+-------------+\n",
      "| Cold(F) |      0.9800 |\n",
      "+---------+-------------+\n"
     ]
    }
   ],
   "source": [
    "# Probability of Cold\n",
    "prob_Cold = infer.query(['Cold'])\n",
    "print(\"\\nProbability of Cold:\")\n",
    "print(prob_Cold)\n",
    "\n",
    "\n",
    "\n"
   ]
  },
  {
   "cell_type": "code",
   "execution_count": 58,
   "metadata": {},
   "outputs": [
    {
     "name": "stderr",
     "output_type": "stream",
     "text": [
      "WARNING:pgmpy:BayesianModel has been renamed to BayesianNetwork. Please use BayesianNetwork class, BayesianModel will be removed in future.\n",
      "WARNING:pgmpy:BayesianModel has been renamed to BayesianNetwork. Please use BayesianNetwork class, BayesianModel will be removed in future.\n"
     ]
    },
    {
     "name": "stdout",
     "output_type": "stream",
     "text": [
      "\n",
      "Probability of LungDisease:\n",
      "+----------------+--------------------+\n",
      "| LungDisease    |   phi(LungDisease) |\n",
      "+================+====================+\n",
      "| LungDisease(T) |             0.0210 |\n",
      "+----------------+--------------------+\n",
      "| LungDisease(F) |             0.9790 |\n",
      "+----------------+--------------------+\n"
     ]
    }
   ],
   "source": [
    "# Probability of LungDisease\n",
    "prob_LungDisease = infer.query(['LungDisease'])\n",
    "print(\"\\nProbability of LungDisease:\")\n",
    "print(prob_LungDisease)\n",
    "\n"
   ]
  },
  {
   "cell_type": "code",
   "execution_count": 59,
   "metadata": {},
   "outputs": [
    {
     "name": "stderr",
     "output_type": "stream",
     "text": [
      "WARNING:pgmpy:BayesianModel has been renamed to BayesianNetwork. Please use BayesianNetwork class, BayesianModel will be removed in future.\n",
      "WARNING:pgmpy:BayesianModel has been renamed to BayesianNetwork. Please use BayesianNetwork class, BayesianModel will be removed in future.\n"
     ]
    },
    {
     "name": "stdout",
     "output_type": "stream",
     "text": [
      "\n",
      "Probability of ShortnessBreath:\n",
      "+--------------------+------------------------+\n",
      "| ShortnessBreath    |   phi(ShortnessBreath) |\n",
      "+====================+========================+\n",
      "| ShortnessBreath(T) |                 0.0142 |\n",
      "+--------------------+------------------------+\n",
      "| ShortnessBreath(F) |                 0.9858 |\n",
      "+--------------------+------------------------+\n"
     ]
    }
   ],
   "source": [
    "# Probability of ShortnessBreath\n",
    "prob_ShortnessBreath = infer.query(['ShortnessBreath'])\n",
    "print(\"\\nProbability of ShortnessBreath:\")\n",
    "print(prob_ShortnessBreath)\n",
    "\n"
   ]
  },
  {
   "cell_type": "code",
   "execution_count": 60,
   "metadata": {},
   "outputs": [
    {
     "name": "stderr",
     "output_type": "stream",
     "text": [
      "WARNING:pgmpy:BayesianModel has been renamed to BayesianNetwork. Please use BayesianNetwork class, BayesianModel will be removed in future.\n",
      "WARNING:pgmpy:BayesianModel has been renamed to BayesianNetwork. Please use BayesianNetwork class, BayesianModel will be removed in future.\n"
     ]
    },
    {
     "name": "stdout",
     "output_type": "stream",
     "text": [
      "\n",
      "Probability of ChestPain:\n",
      "+--------------+------------------+\n",
      "| ChestPain    |   phi(ChestPain) |\n",
      "+==============+==================+\n",
      "| ChestPain(T) |           0.0142 |\n",
      "+--------------+------------------+\n",
      "| ChestPain(F) |           0.9858 |\n",
      "+--------------+------------------+\n"
     ]
    }
   ],
   "source": [
    "# Probability of ChestPain\n",
    "prob_ChestPain = infer.query(['ChestPain'])\n",
    "print(\"\\nProbability of ChestPain:\")\n",
    "print(prob_ChestPain)\n",
    "\n"
   ]
  },
  {
   "cell_type": "code",
   "execution_count": 61,
   "metadata": {},
   "outputs": [
    {
     "name": "stderr",
     "output_type": "stream",
     "text": [
      "WARNING:pgmpy:BayesianModel has been renamed to BayesianNetwork. Please use BayesianNetwork class, BayesianModel will be removed in future.\n",
      "WARNING:pgmpy:BayesianModel has been renamed to BayesianNetwork. Please use BayesianNetwork class, BayesianModel will be removed in future.\n"
     ]
    },
    {
     "name": "stdout",
     "output_type": "stream",
     "text": [
      "\n",
      "Probability of Fever:\n",
      "+----------+--------------+\n",
      "| Fever    |   phi(Fever) |\n",
      "+==========+==============+\n",
      "| Fever(T) |       0.0159 |\n",
      "+----------+--------------+\n",
      "| Fever(F) |       0.9841 |\n",
      "+----------+--------------+\n"
     ]
    }
   ],
   "source": [
    "# Probability of Fever\n",
    "prob_Fever = infer.query(['Fever'])\n",
    "print(\"\\nProbability of Fever:\")\n",
    "print(prob_Fever)\n",
    "\n"
   ]
  },
  {
   "cell_type": "code",
   "execution_count": 62,
   "metadata": {},
   "outputs": [
    {
     "name": "stderr",
     "output_type": "stream",
     "text": [
      "WARNING:pgmpy:BayesianModel has been renamed to BayesianNetwork. Please use BayesianNetwork class, BayesianModel will be removed in future.\n",
      "WARNING:pgmpy:BayesianModel has been renamed to BayesianNetwork. Please use BayesianNetwork class, BayesianModel will be removed in future.\n"
     ]
    },
    {
     "name": "stdout",
     "output_type": "stream",
     "text": [
      "\n",
      "Probability of Cough:\n",
      "+----------+--------------+\n",
      "| Cough    |   phi(Cough) |\n",
      "+==========+==============+\n",
      "| Cough(T) |       0.0302 |\n",
      "+----------+--------------+\n",
      "| Cough(F) |       0.9698 |\n",
      "+----------+--------------+\n"
     ]
    }
   ],
   "source": [
    "# Probability of Cough\n",
    "prob_Cough = infer.query(['Cough'])\n",
    "print(\"\\nProbability of Cough:\")\n",
    "print(prob_Cough)\n",
    "\n"
   ]
  },
  {
   "cell_type": "code",
   "execution_count": 63,
   "metadata": {},
   "outputs": [
    {
     "name": "stderr",
     "output_type": "stream",
     "text": [
      "WARNING:pgmpy:BayesianModel has been renamed to BayesianNetwork. Please use BayesianNetwork class, BayesianModel will be removed in future.\n",
      "WARNING:pgmpy:BayesianModel has been renamed to BayesianNetwork. Please use BayesianNetwork class, BayesianModel will be removed in future.\n"
     ]
    },
    {
     "name": "stdout",
     "output_type": "stream",
     "text": [
      "\n",
      "Probability of LungDisease given Smokes=True:\n",
      "+----------------+--------------------+\n",
      "| LungDisease    |   phi(LungDisease) |\n",
      "+================+====================+\n",
      "| LungDisease(T) |             0.1009 |\n",
      "+----------------+--------------------+\n",
      "| LungDisease(F) |             0.8991 |\n",
      "+----------------+--------------------+\n"
     ]
    }
   ],
   "source": [
    "# Probability of LungDisease given Smokes=True\n",
    "prob_LungDisease_given_Smokes_True = infer.query(['LungDisease'], evidence={'Smokes': 'T'})\n",
    "print(\"\\nProbability of LungDisease given Smokes=True:\")\n",
    "print(prob_LungDisease_given_Smokes_True)\n",
    "\n"
   ]
  },
  {
   "cell_type": "code",
   "execution_count": 64,
   "metadata": {},
   "outputs": [
    {
     "name": "stderr",
     "output_type": "stream",
     "text": [
      "WARNING:pgmpy:BayesianModel has been renamed to BayesianNetwork. Please use BayesianNetwork class, BayesianModel will be removed in future.\n",
      "WARNING:pgmpy:BayesianModel has been renamed to BayesianNetwork. Please use BayesianNetwork class, BayesianModel will be removed in future.\n"
     ]
    },
    {
     "name": "stdout",
     "output_type": "stream",
     "text": [
      "\n",
      "Probability of LungDisease given Cough=True:\n",
      "+----------------+--------------------+\n",
      "| LungDisease    |   phi(LungDisease) |\n",
      "+================+====================+\n",
      "| LungDisease(T) |             0.3545 |\n",
      "+----------------+--------------------+\n",
      "| LungDisease(F) |             0.6455 |\n",
      "+----------------+--------------------+\n"
     ]
    }
   ],
   "source": [
    "# Probability of LungDisease given Cough=True\n",
    "prob_LungDisease_given_Cough_True = infer.query(['LungDisease'], evidence={'Cough': 'T'})\n",
    "print(\"\\nProbability of LungDisease given Cough=True:\")\n",
    "print(prob_LungDisease_given_Cough_True)\n",
    "\n"
   ]
  },
  {
   "cell_type": "code",
   "execution_count": 65,
   "metadata": {},
   "outputs": [
    {
     "name": "stderr",
     "output_type": "stream",
     "text": [
      "WARNING:pgmpy:BayesianModel has been renamed to BayesianNetwork. Please use BayesianNetwork class, BayesianModel will be removed in future.\n",
      "WARNING:pgmpy:BayesianModel has been renamed to BayesianNetwork. Please use BayesianNetwork class, BayesianModel will be removed in future.\n"
     ]
    },
    {
     "name": "stdout",
     "output_type": "stream",
     "text": [
      "\n",
      "Probability of ShortnessBreath given Smokes=True:\n",
      "+--------------------+------------------------+\n",
      "| ShortnessBreath    |   phi(ShortnessBreath) |\n",
      "+====================+========================+\n",
      "| ShortnessBreath(T) |                 0.0300 |\n",
      "+--------------------+------------------------+\n",
      "| ShortnessBreath(F) |                 0.9700 |\n",
      "+--------------------+------------------------+\n"
     ]
    }
   ],
   "source": [
    "# Probability of ShortnessBreath given Smokes=True\n",
    "prob_ShortnessBreath_given_Smokes_True = infer.query(['ShortnessBreath'], evidence={'Smokes': 'T'})\n",
    "print(\"\\nProbability of ShortnessBreath given Smokes=True:\")\n",
    "print(prob_ShortnessBreath_given_Smokes_True)\n",
    "\n"
   ]
  },
  {
   "cell_type": "code",
   "execution_count": 67,
   "metadata": {},
   "outputs": [
    {
     "name": "stderr",
     "output_type": "stream",
     "text": [
      "WARNING:pgmpy:BayesianModel has been renamed to BayesianNetwork. Please use BayesianNetwork class, BayesianModel will be removed in future.\n",
      "WARNING:pgmpy:BayesianModel has been renamed to BayesianNetwork. Please use BayesianNetwork class, BayesianModel will be removed in future.\n"
     ]
    },
    {
     "name": "stdout",
     "output_type": "stream",
     "text": [
      "+----------------+--------------------+\n",
      "| LungDisease    |   phi(LungDisease) |\n",
      "+================+====================+\n",
      "| LungDisease(T) |             0.1009 |\n",
      "+----------------+--------------------+\n",
      "| LungDisease(F) |             0.8991 |\n",
      "+----------------+--------------------+\n"
     ]
    }
   ],
   "source": [
    "print(infer.query(['LungDisease'], evidence={'Smokes': 'T'}) )"
   ]
  },
  {
   "cell_type": "code",
   "execution_count": 66,
   "metadata": {},
   "outputs": [
    {
     "name": "stderr",
     "output_type": "stream",
     "text": [
      "WARNING:pgmpy:BayesianModel has been renamed to BayesianNetwork. Please use BayesianNetwork class, BayesianModel will be removed in future.\n",
      "WARNING:pgmpy:BayesianModel has been renamed to BayesianNetwork. Please use BayesianNetwork class, BayesianModel will be removed in future.\n"
     ]
    },
    {
     "name": "stdout",
     "output_type": "stream",
     "text": [
      "\n",
      "Probability of ChestPain given Fever=True:\n",
      "+--------------+------------------+\n",
      "| ChestPain    |   phi(ChestPain) |\n",
      "+==============+==================+\n",
      "| ChestPain(T) |           0.0142 |\n",
      "+--------------+------------------+\n",
      "| ChestPain(F) |           0.9858 |\n",
      "+--------------+------------------+\n"
     ]
    }
   ],
   "source": [
    "# Probability of ChestPain given Fever=True\n",
    "prob_ChestPain_given_Fever_True = infer.query(['ChestPain'], evidence={'Fever': 'T'})\n",
    "print(\"\\nProbability of ChestPain given Fever=True:\")\n",
    "print(prob_ChestPain_given_Fever_True)"
   ]
  },
  {
   "cell_type": "markdown",
   "metadata": {},
   "source": []
  },
  {
   "cell_type": "markdown",
   "metadata": {},
   "source": [
    "## Q8 [15] \n",
    "**Are the following  true? If not, can you make them independent by including info on the parent?**\n",
    "1. Cough is independent from Fever. (Having knowledge about Fever does not change the probability of Cough) \n",
    "2. Fever is independent from Smokes. \n",
    "3. ChestPain is independent from Smokes.\n",
    "4. ChestPain is independent from Smokes given LungDisease.\n"
   ]
  },
  {
   "cell_type": "markdown",
   "metadata": {},
   "source": [
    "##### 1. Cough is independent from Fever"
   ]
  },
  {
   "cell_type": "code",
   "execution_count": 68,
   "metadata": {},
   "outputs": [
    {
     "name": "stderr",
     "output_type": "stream",
     "text": [
      "WARNING:pgmpy:BayesianModel has been renamed to BayesianNetwork. Please use BayesianNetwork class, BayesianModel will be removed in future.\n",
      "WARNING:pgmpy:BayesianModel has been renamed to BayesianNetwork. Please use BayesianNetwork class, BayesianModel will be removed in future.\n",
      "WARNING:pgmpy:BayesianModel has been renamed to BayesianNetwork. Please use BayesianNetwork class, BayesianModel will be removed in future.\n",
      "WARNING:pgmpy:BayesianModel has been renamed to BayesianNetwork. Please use BayesianNetwork class, BayesianModel will be removed in future.\n",
      "WARNING:pgmpy:BayesianModel has been renamed to BayesianNetwork. Please use BayesianNetwork class, BayesianModel will be removed in future.\n",
      "WARNING:pgmpy:BayesianModel has been renamed to BayesianNetwork. Please use BayesianNetwork class, BayesianModel will be removed in future.\n"
     ]
    },
    {
     "name": "stdout",
     "output_type": "stream",
     "text": [
      "+----------+--------------+\n",
      "| Cough    |   phi(Cough) |\n",
      "+==========+==============+\n",
      "| Cough(T) |       0.0302 |\n",
      "+----------+--------------+\n",
      "| Cough(F) |       0.9698 |\n",
      "+----------+--------------+\n",
      "+----------+--------------+\n",
      "| Cough    |   phi(Cough) |\n",
      "+==========+==============+\n",
      "| Cough(T) |       0.2091 |\n",
      "+----------+--------------+\n",
      "| Cough(F) |       0.7909 |\n",
      "+----------+--------------+\n",
      "+----------+--------------+\n",
      "| Cough    |   phi(Cough) |\n",
      "+==========+==============+\n",
      "| Cough(T) |       0.0273 |\n",
      "+----------+--------------+\n",
      "| Cough(F) |       0.9727 |\n",
      "+----------+--------------+\n"
     ]
    }
   ],
   "source": [
    "dist = infer.query(['Cough'])\n",
    "print(dist)\n",
    "\n",
    "dist = infer.query(['Cough'], evidence={'Fever':'T'})\n",
    "print(dist)\n",
    "\n",
    "dist = infer.query(['Cough'], evidence={'Fever':'F'})\n",
    "print(dist)"
   ]
  },
  {
   "cell_type": "markdown",
   "metadata": {},
   "source": [
    "- Fever does affect Cough -> Not independent\n",
    "- However, given the parent of both Fever and Cough (Cold), they should be independent."
   ]
  },
  {
   "cell_type": "code",
   "execution_count": 69,
   "metadata": {},
   "outputs": [
    {
     "name": "stderr",
     "output_type": "stream",
     "text": [
      "WARNING:pgmpy:BayesianModel has been renamed to BayesianNetwork. Please use BayesianNetwork class, BayesianModel will be removed in future.\n",
      "WARNING:pgmpy:BayesianModel has been renamed to BayesianNetwork. Please use BayesianNetwork class, BayesianModel will be removed in future.\n",
      "WARNING:pgmpy:BayesianModel has been renamed to BayesianNetwork. Please use BayesianNetwork class, BayesianModel will be removed in future.\n",
      "WARNING:pgmpy:BayesianModel has been renamed to BayesianNetwork. Please use BayesianNetwork class, BayesianModel will be removed in future.\n",
      "WARNING:pgmpy:BayesianModel has been renamed to BayesianNetwork. Please use BayesianNetwork class, BayesianModel will be removed in future.\n",
      "WARNING:pgmpy:BayesianModel has been renamed to BayesianNetwork. Please use BayesianNetwork class, BayesianModel will be removed in future.\n",
      "WARNING:pgmpy:BayesianModel has been renamed to BayesianNetwork. Please use BayesianNetwork class, BayesianModel will be removed in future.\n",
      "WARNING:pgmpy:BayesianModel has been renamed to BayesianNetwork. Please use BayesianNetwork class, BayesianModel will be removed in future.\n"
     ]
    },
    {
     "name": "stdout",
     "output_type": "stream",
     "text": [
      "+----------+--------------+\n",
      "| Cough    |   phi(Cough) |\n",
      "+==========+==============+\n",
      "| Cough(T) |       0.0204 |\n",
      "+----------+--------------+\n",
      "| Cough(F) |       0.9796 |\n",
      "+----------+--------------+\n",
      "+----------+--------------+\n",
      "| Cough    |   phi(Cough) |\n",
      "+==========+==============+\n",
      "| Cough(T) |       0.0204 |\n",
      "+----------+--------------+\n",
      "| Cough(F) |       0.9796 |\n",
      "+----------+--------------+\n",
      "+----------+--------------+\n",
      "| Cough    |   phi(Cough) |\n",
      "+==========+==============+\n",
      "| Cough(T) |       0.5102 |\n",
      "+----------+--------------+\n",
      "| Cough(F) |       0.4898 |\n",
      "+----------+--------------+\n",
      "+----------+--------------+\n",
      "| Cough    |   phi(Cough) |\n",
      "+==========+==============+\n",
      "| Cough(T) |       0.5102 |\n",
      "+----------+--------------+\n",
      "| Cough(F) |       0.4898 |\n",
      "+----------+--------------+\n"
     ]
    }
   ],
   "source": [
    "dist = infer.query(['Cough'], evidence={'Cold':'F', 'Fever':'T'})\n",
    "print(dist)\n",
    "\n",
    "dist = infer.query(['Cough'], evidence={'Cold':'F', 'Fever':'F'})\n",
    "print(dist)\n",
    "\n",
    "dist = infer.query(['Cough'], evidence={'Cold':'T', 'Fever':'T'})\n",
    "print(dist)\n",
    "\n",
    "dist = infer.query(['Cough'], evidence={'Cold':'T', 'Fever':'F'})\n",
    "print(dist)"
   ]
  },
  {
   "cell_type": "markdown",
   "metadata": {},
   "source": [
    "##### 2. Fever is independent from Smokes. "
   ]
  },
  {
   "cell_type": "code",
   "execution_count": 70,
   "metadata": {},
   "outputs": [
    {
     "name": "stderr",
     "output_type": "stream",
     "text": [
      "WARNING:pgmpy:BayesianModel has been renamed to BayesianNetwork. Please use BayesianNetwork class, BayesianModel will be removed in future.\n",
      "WARNING:pgmpy:BayesianModel has been renamed to BayesianNetwork. Please use BayesianNetwork class, BayesianModel will be removed in future.\n",
      "WARNING:pgmpy:BayesianModel has been renamed to BayesianNetwork. Please use BayesianNetwork class, BayesianModel will be removed in future.\n",
      "WARNING:pgmpy:BayesianModel has been renamed to BayesianNetwork. Please use BayesianNetwork class, BayesianModel will be removed in future.\n",
      "WARNING:pgmpy:BayesianModel has been renamed to BayesianNetwork. Please use BayesianNetwork class, BayesianModel will be removed in future.\n",
      "WARNING:pgmpy:BayesianModel has been renamed to BayesianNetwork. Please use BayesianNetwork class, BayesianModel will be removed in future.\n"
     ]
    },
    {
     "name": "stdout",
     "output_type": "stream",
     "text": [
      "+----------+--------------+\n",
      "| Fever    |   phi(Fever) |\n",
      "+==========+==============+\n",
      "| Fever(T) |       0.0159 |\n",
      "+----------+--------------+\n",
      "| Fever(F) |       0.9841 |\n",
      "+----------+--------------+\n",
      "+----------+--------------+\n",
      "| Fever    |   phi(Fever) |\n",
      "+==========+==============+\n",
      "| Fever(T) |       0.0159 |\n",
      "+----------+--------------+\n",
      "| Fever(F) |       0.9841 |\n",
      "+----------+--------------+\n",
      "+----------+--------------+\n",
      "| Fever    |   phi(Fever) |\n",
      "+==========+==============+\n",
      "| Fever(T) |       0.0159 |\n",
      "+----------+--------------+\n",
      "| Fever(F) |       0.9841 |\n",
      "+----------+--------------+\n"
     ]
    }
   ],
   "source": [
    "# Your code\n",
    "print(infer.query(['Fever']))\n",
    "\n",
    "print(infer.query(['Fever'], evidence={'Smokes':'T'}))\n",
    "\n",
    "print(infer.query(['Fever'], evidence={'Smokes':'F'}))"
   ]
  },
  {
   "cell_type": "markdown",
   "metadata": {},
   "source": [
    "##### 3. ChestPain is independent from Smokes."
   ]
  },
  {
   "cell_type": "code",
   "execution_count": 71,
   "metadata": {},
   "outputs": [
    {
     "name": "stderr",
     "output_type": "stream",
     "text": [
      "WARNING:pgmpy:BayesianModel has been renamed to BayesianNetwork. Please use BayesianNetwork class, BayesianModel will be removed in future.\n",
      "WARNING:pgmpy:BayesianModel has been renamed to BayesianNetwork. Please use BayesianNetwork class, BayesianModel will be removed in future.\n",
      "WARNING:pgmpy:BayesianModel has been renamed to BayesianNetwork. Please use BayesianNetwork class, BayesianModel will be removed in future.\n",
      "WARNING:pgmpy:BayesianModel has been renamed to BayesianNetwork. Please use BayesianNetwork class, BayesianModel will be removed in future.\n",
      "WARNING:pgmpy:BayesianModel has been renamed to BayesianNetwork. Please use BayesianNetwork class, BayesianModel will be removed in future.\n",
      "WARNING:pgmpy:BayesianModel has been renamed to BayesianNetwork. Please use BayesianNetwork class, BayesianModel will be removed in future.\n"
     ]
    },
    {
     "name": "stdout",
     "output_type": "stream",
     "text": [
      "+--------------+------------------+\n",
      "| ChestPain    |   phi(ChestPain) |\n",
      "+==============+==================+\n",
      "| ChestPain(T) |           0.0142 |\n",
      "+--------------+------------------+\n",
      "| ChestPain(F) |           0.9858 |\n",
      "+--------------+------------------+\n",
      "+--------------+------------------+\n",
      "| ChestPain    |   phi(ChestPain) |\n",
      "+==============+==================+\n",
      "| ChestPain(T) |           0.0300 |\n",
      "+--------------+------------------+\n",
      "| ChestPain(F) |           0.9700 |\n",
      "+--------------+------------------+\n",
      "+--------------+------------------+\n",
      "| ChestPain    |   phi(ChestPain) |\n",
      "+==============+==================+\n",
      "| ChestPain(T) |           0.0102 |\n",
      "+--------------+------------------+\n",
      "| ChestPain(F) |           0.9898 |\n",
      "+--------------+------------------+\n"
     ]
    }
   ],
   "source": [
    "# Your code\n",
    "print(infer.query(['ChestPain']))\n",
    "\n",
    "print(infer.query(['ChestPain'], evidence={'Smokes':'T'}))\n",
    "\n",
    "print(infer.query(['ChestPain'], evidence={'Smokes':'F'}))"
   ]
  },
  {
   "cell_type": "markdown",
   "metadata": {},
   "source": [
    "## Q9 [20]\n",
    "1. Does having the knowledge that the person is coughing increase the probability of lung disease?\n",
    "2. Does having the knowledge that the person is coughing increase the probability that the person has Cold?\n",
    "3. Does having the knowledge that the person is coughing increase the probability that there is Fever?\n",
    "4. Does having the knowledge that the person is coughing increase the probability that there is Fever, given the person has Cold?\n",
    "5. Does having the knowledge that the person has Fever increase the probability that there is Lung Disease?\n"
   ]
  },
  {
   "cell_type": "markdown",
   "metadata": {},
   "source": [
    "##### 1. Does having the knowledge that the person is coughing increase the probability of lung disease? [5]"
   ]
  },
  {
   "cell_type": "code",
   "execution_count": 72,
   "metadata": {},
   "outputs": [
    {
     "name": "stderr",
     "output_type": "stream",
     "text": [
      "WARNING:pgmpy:BayesianModel has been renamed to BayesianNetwork. Please use BayesianNetwork class, BayesianModel will be removed in future.\n",
      "WARNING:pgmpy:BayesianModel has been renamed to BayesianNetwork. Please use BayesianNetwork class, BayesianModel will be removed in future.\n",
      "WARNING:pgmpy:BayesianModel has been renamed to BayesianNetwork. Please use BayesianNetwork class, BayesianModel will be removed in future.\n",
      "WARNING:pgmpy:BayesianModel has been renamed to BayesianNetwork. Please use BayesianNetwork class, BayesianModel will be removed in future.\n"
     ]
    },
    {
     "name": "stdout",
     "output_type": "stream",
     "text": [
      "+----------------+--------------------+\n",
      "| LungDisease    |   phi(LungDisease) |\n",
      "+================+====================+\n",
      "| LungDisease(T) |             0.0210 |\n",
      "+----------------+--------------------+\n",
      "| LungDisease(F) |             0.9790 |\n",
      "+----------------+--------------------+\n",
      "+----------------+--------------------+\n",
      "| LungDisease    |   phi(LungDisease) |\n",
      "+================+====================+\n",
      "| LungDisease(T) |             0.3545 |\n",
      "+----------------+--------------------+\n",
      "| LungDisease(F) |             0.6455 |\n",
      "+----------------+--------------------+\n"
     ]
    }
   ],
   "source": [
    "dist = infer.query(['LungDisease'])\n",
    "print(dist)\n",
    "dist = infer.query(['LungDisease'], evidence={'Cough': 'T'})\n",
    "print(dist)"
   ]
  },
  {
   "cell_type": "markdown",
   "metadata": {},
   "source": [
    "Having the knowledge that the person is coughing increases the probability of lung disease."
   ]
  },
  {
   "cell_type": "markdown",
   "metadata": {},
   "source": [
    "##### 2. Does having the knowledge that the person is coughing increase the probability that the person has Cold? [5]"
   ]
  },
  {
   "cell_type": "code",
   "execution_count": 74,
   "metadata": {},
   "outputs": [
    {
     "name": "stderr",
     "output_type": "stream",
     "text": [
      "WARNING:pgmpy:BayesianModel has been renamed to BayesianNetwork. Please use BayesianNetwork class, BayesianModel will be removed in future.\n",
      "WARNING:pgmpy:BayesianModel has been renamed to BayesianNetwork. Please use BayesianNetwork class, BayesianModel will be removed in future.\n"
     ]
    },
    {
     "name": "stdout",
     "output_type": "stream",
     "text": [
      "+---------+-------------+\n",
      "| Cold    |   phi(Cold) |\n",
      "+=========+=============+\n",
      "| Cold(T) |      0.0200 |\n",
      "+---------+-------------+\n",
      "| Cold(F) |      0.9800 |\n",
      "+---------+-------------+\n"
     ]
    }
   ],
   "source": [
    "# Your code\n",
    "print(infer.query(['Cold']))\n"
   ]
  },
  {
   "cell_type": "code",
   "execution_count": 75,
   "metadata": {},
   "outputs": [
    {
     "name": "stderr",
     "output_type": "stream",
     "text": [
      "WARNING:pgmpy:BayesianModel has been renamed to BayesianNetwork. Please use BayesianNetwork class, BayesianModel will be removed in future.\n",
      "WARNING:pgmpy:BayesianModel has been renamed to BayesianNetwork. Please use BayesianNetwork class, BayesianModel will be removed in future.\n"
     ]
    },
    {
     "name": "stdout",
     "output_type": "stream",
     "text": [
      "+---------+-------------+\n",
      "| Cold    |   phi(Cold) |\n",
      "+=========+=============+\n",
      "| Cold(T) |      0.3381 |\n",
      "+---------+-------------+\n",
      "| Cold(F) |      0.6619 |\n",
      "+---------+-------------+\n"
     ]
    }
   ],
   "source": [
    "print(infer.query(['Cold'], evidence={'Cough': 'T'}))"
   ]
  },
  {
   "cell_type": "markdown",
   "metadata": {},
   "source": [
    "the knowledge that the person is coughing increase the probability that the person has Cold"
   ]
  },
  {
   "cell_type": "markdown",
   "metadata": {},
   "source": [
    "##### 3. Does having the knowledge that the person is coughing increase the probability that there is Fever? [5]"
   ]
  },
  {
   "cell_type": "code",
   "execution_count": 77,
   "metadata": {
    "scrolled": true
   },
   "outputs": [
    {
     "name": "stderr",
     "output_type": "stream",
     "text": [
      "WARNING:pgmpy:BayesianModel has been renamed to BayesianNetwork. Please use BayesianNetwork class, BayesianModel will be removed in future.\n",
      "WARNING:pgmpy:BayesianModel has been renamed to BayesianNetwork. Please use BayesianNetwork class, BayesianModel will be removed in future.\n"
     ]
    },
    {
     "name": "stdout",
     "output_type": "stream",
     "text": [
      "+----------+--------------+\n",
      "| Fever    |   phi(Fever) |\n",
      "+==========+==============+\n",
      "| Fever(T) |       0.0159 |\n",
      "+----------+--------------+\n",
      "| Fever(F) |       0.9841 |\n",
      "+----------+--------------+\n"
     ]
    }
   ],
   "source": [
    "# Your code\n",
    "print(infer.query(['Fever']))\n"
   ]
  },
  {
   "cell_type": "code",
   "execution_count": 78,
   "metadata": {},
   "outputs": [
    {
     "name": "stderr",
     "output_type": "stream",
     "text": [
      "WARNING:pgmpy:BayesianModel has been renamed to BayesianNetwork. Please use BayesianNetwork class, BayesianModel will be removed in future.\n",
      "WARNING:pgmpy:BayesianModel has been renamed to BayesianNetwork. Please use BayesianNetwork class, BayesianModel will be removed in future.\n"
     ]
    },
    {
     "name": "stdout",
     "output_type": "stream",
     "text": [
      "+----------+--------------+\n",
      "| Fever    |   phi(Fever) |\n",
      "+==========+==============+\n",
      "| Fever(T) |       0.1104 |\n",
      "+----------+--------------+\n",
      "| Fever(F) |       0.8896 |\n",
      "+----------+--------------+\n"
     ]
    }
   ],
   "source": [
    "print(infer.query(['Fever'], evidence={'Cough': 'T'}))"
   ]
  },
  {
   "cell_type": "markdown",
   "metadata": {},
   "source": [
    "the knowledge that the person is coughing increase the probability that there is Fever"
   ]
  },
  {
   "cell_type": "markdown",
   "metadata": {},
   "source": [
    "##### 4. Does having the knowledge that the person is coughing increase the probability that there is Fever, given the person has Cold?"
   ]
  },
  {
   "cell_type": "code",
   "execution_count": 79,
   "metadata": {},
   "outputs": [
    {
     "name": "stderr",
     "output_type": "stream",
     "text": [
      "WARNING:pgmpy:BayesianModel has been renamed to BayesianNetwork. Please use BayesianNetwork class, BayesianModel will be removed in future.\n",
      "WARNING:pgmpy:BayesianModel has been renamed to BayesianNetwork. Please use BayesianNetwork class, BayesianModel will be removed in future.\n",
      "WARNING:pgmpy:BayesianModel has been renamed to BayesianNetwork. Please use BayesianNetwork class, BayesianModel will be removed in future.\n",
      "WARNING:pgmpy:BayesianModel has been renamed to BayesianNetwork. Please use BayesianNetwork class, BayesianModel will be removed in future.\n"
     ]
    },
    {
     "name": "stdout",
     "output_type": "stream",
     "text": [
      "+----------+--------------+\n",
      "| Fever    |   phi(Fever) |\n",
      "+==========+==============+\n",
      "| Fever(T) |       0.0159 |\n",
      "+----------+--------------+\n",
      "| Fever(F) |       0.9841 |\n",
      "+----------+--------------+\n",
      "+----------+--------------+\n",
      "| Fever    |   phi(Fever) |\n",
      "+==========+==============+\n",
      "| Fever(T) |       0.3070 |\n",
      "+----------+--------------+\n",
      "| Fever(F) |       0.6930 |\n",
      "+----------+--------------+\n"
     ]
    }
   ],
   "source": [
    "# Your code\n",
    "print(infer.query(['Fever']))\n",
    "print(infer.query(['Fever'], evidence={'Cough': 'T', 'Cold': 'T'}))"
   ]
  },
  {
   "cell_type": "markdown",
   "metadata": {},
   "source": [
    "the knowledge that the person is coughing increase the probability that there is Fever, given the person has Cold"
   ]
  },
  {
   "cell_type": "markdown",
   "metadata": {},
   "source": [
    "##### 5. Does having the knowledge that the person has Fever increase the probability that there is Lung Disease?"
   ]
  },
  {
   "cell_type": "code",
   "execution_count": 80,
   "metadata": {},
   "outputs": [
    {
     "name": "stderr",
     "output_type": "stream",
     "text": [
      "WARNING:pgmpy:BayesianModel has been renamed to BayesianNetwork. Please use BayesianNetwork class, BayesianModel will be removed in future.\n",
      "WARNING:pgmpy:BayesianModel has been renamed to BayesianNetwork. Please use BayesianNetwork class, BayesianModel will be removed in future.\n",
      "WARNING:pgmpy:BayesianModel has been renamed to BayesianNetwork. Please use BayesianNetwork class, BayesianModel will be removed in future.\n",
      "WARNING:pgmpy:BayesianModel has been renamed to BayesianNetwork. Please use BayesianNetwork class, BayesianModel will be removed in future.\n"
     ]
    },
    {
     "name": "stdout",
     "output_type": "stream",
     "text": [
      "+----------------+--------------------+\n",
      "| LungDisease    |   phi(LungDisease) |\n",
      "+================+====================+\n",
      "| LungDisease(T) |             0.0210 |\n",
      "+----------------+--------------------+\n",
      "| LungDisease(F) |             0.9790 |\n",
      "+----------------+--------------------+\n",
      "+----------------+--------------------+\n",
      "| LungDisease    |   phi(LungDisease) |\n",
      "+================+====================+\n",
      "| LungDisease(T) |             0.0210 |\n",
      "+----------------+--------------------+\n",
      "| LungDisease(F) |             0.9790 |\n",
      "+----------------+--------------------+\n"
     ]
    }
   ],
   "source": [
    "# Your code\n",
    "print(infer.query(['LungDisease']))\n",
    "print(infer.query(['LungDisease'], evidence={'Fever': 'T'}))"
   ]
  },
  {
   "cell_type": "markdown",
   "metadata": {},
   "source": [
    "## Q10 [5]\n",
    "1. What's the most probable state of Cough? \n",
    "2. What's the most probable state of Cough given Cold is True? \n",
    "3. What's the most probable state of Cough given Cold is True and Lung Disease is True?"
   ]
  },
  {
   "cell_type": "markdown",
   "metadata": {},
   "source": [
    "##### 1. What's the most probable state of Cough? "
   ]
  },
  {
   "cell_type": "code",
   "execution_count": 162,
   "metadata": {},
   "outputs": [
    {
     "name": "stderr",
     "output_type": "stream",
     "text": [
      "Finding Elimination Order: : 100%|█████████████████████████████████████████████████████| 6/6 [00:00<00:00, 6019.09it/s]\n",
      "Eliminating: Cold: 100%|████████████████████████████████████████████████████████████████| 6/6 [00:00<00:00, 668.41it/s]\n"
     ]
    },
    {
     "data": {
      "text/plain": [
       "{'Cough': 'F'}"
      ]
     },
     "execution_count": 162,
     "metadata": {},
     "output_type": "execute_result"
    }
   ],
   "source": [
    "infer.map_query(['Cough'])"
   ]
  },
  {
   "cell_type": "markdown",
   "metadata": {},
   "source": [
    "The most probable state of Cough is False."
   ]
  },
  {
   "cell_type": "code",
   "execution_count": 81,
   "metadata": {},
   "outputs": [
    {
     "name": "stderr",
     "output_type": "stream",
     "text": [
      "WARNING:pgmpy:BayesianModel has been renamed to BayesianNetwork. Please use BayesianNetwork class, BayesianModel will be removed in future.\n",
      "WARNING:pgmpy:BayesianModel has been renamed to BayesianNetwork. Please use BayesianNetwork class, BayesianModel will be removed in future.\n"
     ]
    },
    {
     "data": {
      "application/vnd.jupyter.widget-view+json": {
       "model_id": "fed9974ee90e4cd3a4e44a858ad81a9c",
       "version_major": 2,
       "version_minor": 0
      },
      "text/plain": [
       "  0%|          | 0/3 [00:00<?, ?it/s]"
      ]
     },
     "metadata": {},
     "output_type": "display_data"
    },
    {
     "data": {
      "application/vnd.jupyter.widget-view+json": {
       "model_id": "e1b50731f8804f1e88c7cca1f945a8a0",
       "version_major": 2,
       "version_minor": 0
      },
      "text/plain": [
       "  0%|          | 0/3 [00:00<?, ?it/s]"
      ]
     },
     "metadata": {},
     "output_type": "display_data"
    },
    {
     "name": "stdout",
     "output_type": "stream",
     "text": [
      "The most probable state of Cough is: F\n"
     ]
    }
   ],
   "source": [
    "# Find the most probable state of Cough\n",
    "map_cough = infer.map_query(variables=['Cough'])\n",
    "most_probable_state_cough_map = map_cough['Cough']\n",
    "\n",
    "print(f\"The most probable state of Cough is: {most_probable_state_cough_map}\")\n"
   ]
  },
  {
   "cell_type": "markdown",
   "metadata": {},
   "source": [
    "##### 2. What's the most probable state of Cough given Cold is True? "
   ]
  },
  {
   "cell_type": "code",
   "execution_count": 86,
   "metadata": {},
   "outputs": [
    {
     "name": "stderr",
     "output_type": "stream",
     "text": [
      "WARNING:pgmpy:BayesianModel has been renamed to BayesianNetwork. Please use BayesianNetwork class, BayesianModel will be removed in future.\n",
      "WARNING:pgmpy:BayesianModel has been renamed to BayesianNetwork. Please use BayesianNetwork class, BayesianModel will be removed in future.\n"
     ]
    },
    {
     "data": {
      "application/vnd.jupyter.widget-view+json": {
       "model_id": "b76dc55e979e48f4927605a8735867a6",
       "version_major": 2,
       "version_minor": 0
      },
      "text/plain": [
       "  0%|          | 0/2 [00:00<?, ?it/s]"
      ]
     },
     "metadata": {},
     "output_type": "display_data"
    },
    {
     "data": {
      "application/vnd.jupyter.widget-view+json": {
       "model_id": "091b653e9bd142179b9d8aadd0b64a74",
       "version_major": 2,
       "version_minor": 0
      },
      "text/plain": [
       "  0%|          | 0/2 [00:00<?, ?it/s]"
      ]
     },
     "metadata": {},
     "output_type": "display_data"
    },
    {
     "name": "stdout",
     "output_type": "stream",
     "text": [
      "The most probable state of Cough given Cold is True is: T\n"
     ]
    }
   ],
   "source": [
    "# Find the most probable state of Cough given Cold is True\n",
    "map_cough_given_cold = infer.map_query(variables=['Cough'], evidence={'Cold': 'T'})\n",
    "most_probable_state_cough_given_cold_map = map_cough_given_cold['Cough']\n",
    "\n",
    "print(f\"The most probable state of Cough given Cold is True is: {most_probable_state_cough_given_cold_map}\")\n"
   ]
  },
  {
   "cell_type": "markdown",
   "metadata": {},
   "source": [
    "##### 3. What's the most probable state of Cough given Cold is True and Lung Disease is True?"
   ]
  },
  {
   "cell_type": "code",
   "execution_count": 84,
   "metadata": {},
   "outputs": [
    {
     "name": "stderr",
     "output_type": "stream",
     "text": [
      "WARNING:pgmpy:BayesianModel has been renamed to BayesianNetwork. Please use BayesianNetwork class, BayesianModel will be removed in future.\n",
      "WARNING:pgmpy:BayesianModel has been renamed to BayesianNetwork. Please use BayesianNetwork class, BayesianModel will be removed in future.\n"
     ]
    },
    {
     "data": {
      "application/vnd.jupyter.widget-view+json": {
       "model_id": "3f10702331ff434f8ad70f0cd55d2e8f",
       "version_major": 2,
       "version_minor": 0
      },
      "text/plain": [
       "0it [00:00, ?it/s]"
      ]
     },
     "metadata": {},
     "output_type": "display_data"
    },
    {
     "data": {
      "application/vnd.jupyter.widget-view+json": {
       "model_id": "6fea6f2c88644723a966954170673788",
       "version_major": 2,
       "version_minor": 0
      },
      "text/plain": [
       "0it [00:00, ?it/s]"
      ]
     },
     "metadata": {},
     "output_type": "display_data"
    },
    {
     "name": "stdout",
     "output_type": "stream",
     "text": [
      "The most probable state of Cough given Cold is True and Lung Disease is True is: T\n"
     ]
    }
   ],
   "source": [
    "# Find the most probable state of Cough given Cold is True and Lung Disease is True\n",
    "map_cough_given_cold_lung_disease = infer.map_query(variables=['Cough'], evidence={'Cold': 'T', 'LungDisease': 'T'})\n",
    "most_probable_state_cough_given_cold_lung_disease_map = map_cough_given_cold_lung_disease['Cough']\n",
    "\n",
    "print(f\"The most probable state of Cough given Cold is True and Lung Disease is True is: {most_probable_state_cough_given_cold_lung_disease_map}\")\n"
   ]
  },
  {
   "cell_type": "code",
   "execution_count": null,
   "metadata": {},
   "outputs": [],
   "source": []
  },
  {
   "cell_type": "markdown",
   "metadata": {},
   "source": [
    "# Well done!"
   ]
  }
 ],
 "metadata": {
  "kernelspec": {
   "display_name": "Python 3 (ipykernel)",
   "language": "python",
   "name": "python3"
  },
  "language_info": {
   "codemirror_mode": {
    "name": "ipython",
    "version": 3
   },
   "file_extension": ".py",
   "mimetype": "text/x-python",
   "name": "python",
   "nbconvert_exporter": "python",
   "pygments_lexer": "ipython3",
   "version": "3.9.12"
  },
  "toc": {
   "base_numbering": 1,
   "nav_menu": {},
   "number_sections": false,
   "sideBar": false,
   "skip_h1_title": false,
   "title_cell": "Table of Contents",
   "title_sidebar": "Contents",
   "toc_cell": false,
   "toc_position": {},
   "toc_section_display": false,
   "toc_window_display": false
  }
 },
 "nbformat": 4,
 "nbformat_minor": 4
}
